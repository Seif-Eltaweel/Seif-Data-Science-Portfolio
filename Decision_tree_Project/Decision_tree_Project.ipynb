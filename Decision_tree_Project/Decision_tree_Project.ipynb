{
 "cells": [
  {
   "attachments": {},
   "cell_type": "markdown",
   "id": "f662d169",
   "metadata": {},
   "source": [
    "# Code challenge: Decision trees\n",
    "© ExploreAI Academy"
   ]
  },
  {
   "attachments": {},
   "cell_type": "markdown",
   "id": "26af890c",
   "metadata": {},
   "source": [
    "In this code challenge, we will test our knowledge of the fundamental concepts of decision trees by implementing a decision tree regression model and analysing its RMSLE.\n",
    "\n"
   ]
  },
  {
   "attachments": {},
   "cell_type": "markdown",
   "id": "a275af89",
   "metadata": {},
   "source": [
    "We begin by importing the necessary packages for the challenges."
   ]
  },
  {
   "cell_type": "code",
   "execution_count": 1,
   "id": "7918a99c",
   "metadata": {},
   "outputs": [],
   "source": [
    "import numpy as np\n",
    "import pandas as pd\n",
    "from sklearn.tree import DecisionTreeRegressor"
   ]
  },
  {
   "attachments": {},
   "cell_type": "markdown",
   "id": "022dbac7",
   "metadata": {},
   "source": [
    "## The dataset\n",
    "\n",
    "The dataset contains population data for various countries over the years from 1960 to 2017. Each row corresponds to a specific country, identified by a country code, and each column represents a year. The values within the dataset represent the population count for each country in the corresponding year."
   ]
  },
  {
   "cell_type": "code",
   "execution_count": 2,
   "id": "9c17898c",
   "metadata": {},
   "outputs": [
    {
     "data": {
      "text/html": [
       "<div>\n",
       "<style scoped>\n",
       "    .dataframe tbody tr th:only-of-type {\n",
       "        vertical-align: middle;\n",
       "    }\n",
       "\n",
       "    .dataframe tbody tr th {\n",
       "        vertical-align: top;\n",
       "    }\n",
       "\n",
       "    .dataframe thead th {\n",
       "        text-align: right;\n",
       "    }\n",
       "</style>\n",
       "<table border=\"1\" class=\"dataframe\">\n",
       "  <thead>\n",
       "    <tr style=\"text-align: right;\">\n",
       "      <th></th>\n",
       "      <th>1960</th>\n",
       "      <th>1961</th>\n",
       "      <th>1962</th>\n",
       "      <th>1963</th>\n",
       "      <th>1964</th>\n",
       "      <th>1965</th>\n",
       "      <th>1966</th>\n",
       "      <th>1967</th>\n",
       "      <th>1968</th>\n",
       "      <th>1969</th>\n",
       "      <th>...</th>\n",
       "      <th>2008</th>\n",
       "      <th>2009</th>\n",
       "      <th>2010</th>\n",
       "      <th>2011</th>\n",
       "      <th>2012</th>\n",
       "      <th>2013</th>\n",
       "      <th>2014</th>\n",
       "      <th>2015</th>\n",
       "      <th>2016</th>\n",
       "      <th>2017</th>\n",
       "    </tr>\n",
       "    <tr>\n",
       "      <th>Country Code</th>\n",
       "      <th></th>\n",
       "      <th></th>\n",
       "      <th></th>\n",
       "      <th></th>\n",
       "      <th></th>\n",
       "      <th></th>\n",
       "      <th></th>\n",
       "      <th></th>\n",
       "      <th></th>\n",
       "      <th></th>\n",
       "      <th></th>\n",
       "      <th></th>\n",
       "      <th></th>\n",
       "      <th></th>\n",
       "      <th></th>\n",
       "      <th></th>\n",
       "      <th></th>\n",
       "      <th></th>\n",
       "      <th></th>\n",
       "      <th></th>\n",
       "      <th></th>\n",
       "    </tr>\n",
       "  </thead>\n",
       "  <tbody>\n",
       "    <tr>\n",
       "      <th>ABW</th>\n",
       "      <td>54211.0</td>\n",
       "      <td>55438.0</td>\n",
       "      <td>56225.0</td>\n",
       "      <td>56695.0</td>\n",
       "      <td>57032.0</td>\n",
       "      <td>57360.0</td>\n",
       "      <td>57715.0</td>\n",
       "      <td>58055.0</td>\n",
       "      <td>58386.0</td>\n",
       "      <td>58726.0</td>\n",
       "      <td>...</td>\n",
       "      <td>101353.0</td>\n",
       "      <td>101453.0</td>\n",
       "      <td>101669.0</td>\n",
       "      <td>102053.0</td>\n",
       "      <td>102577.0</td>\n",
       "      <td>103187.0</td>\n",
       "      <td>103795.0</td>\n",
       "      <td>104341.0</td>\n",
       "      <td>104822.0</td>\n",
       "      <td>105264.0</td>\n",
       "    </tr>\n",
       "    <tr>\n",
       "      <th>AFG</th>\n",
       "      <td>8996351.0</td>\n",
       "      <td>9166764.0</td>\n",
       "      <td>9345868.0</td>\n",
       "      <td>9533954.0</td>\n",
       "      <td>9731361.0</td>\n",
       "      <td>9938414.0</td>\n",
       "      <td>10152331.0</td>\n",
       "      <td>10372630.0</td>\n",
       "      <td>10604346.0</td>\n",
       "      <td>10854428.0</td>\n",
       "      <td>...</td>\n",
       "      <td>27294031.0</td>\n",
       "      <td>28004331.0</td>\n",
       "      <td>28803167.0</td>\n",
       "      <td>29708599.0</td>\n",
       "      <td>30696958.0</td>\n",
       "      <td>31731688.0</td>\n",
       "      <td>32758020.0</td>\n",
       "      <td>33736494.0</td>\n",
       "      <td>34656032.0</td>\n",
       "      <td>35530081.0</td>\n",
       "    </tr>\n",
       "    <tr>\n",
       "      <th>AGO</th>\n",
       "      <td>5643182.0</td>\n",
       "      <td>5753024.0</td>\n",
       "      <td>5866061.0</td>\n",
       "      <td>5980417.0</td>\n",
       "      <td>6093321.0</td>\n",
       "      <td>6203299.0</td>\n",
       "      <td>6309770.0</td>\n",
       "      <td>6414995.0</td>\n",
       "      <td>6523791.0</td>\n",
       "      <td>6642632.0</td>\n",
       "      <td>...</td>\n",
       "      <td>21759420.0</td>\n",
       "      <td>22549547.0</td>\n",
       "      <td>23369131.0</td>\n",
       "      <td>24218565.0</td>\n",
       "      <td>25096150.0</td>\n",
       "      <td>25998340.0</td>\n",
       "      <td>26920466.0</td>\n",
       "      <td>27859305.0</td>\n",
       "      <td>28813463.0</td>\n",
       "      <td>29784193.0</td>\n",
       "    </tr>\n",
       "    <tr>\n",
       "      <th>ALB</th>\n",
       "      <td>1608800.0</td>\n",
       "      <td>1659800.0</td>\n",
       "      <td>1711319.0</td>\n",
       "      <td>1762621.0</td>\n",
       "      <td>1814135.0</td>\n",
       "      <td>1864791.0</td>\n",
       "      <td>1914573.0</td>\n",
       "      <td>1965598.0</td>\n",
       "      <td>2022272.0</td>\n",
       "      <td>2081695.0</td>\n",
       "      <td>...</td>\n",
       "      <td>2947314.0</td>\n",
       "      <td>2927519.0</td>\n",
       "      <td>2913021.0</td>\n",
       "      <td>2905195.0</td>\n",
       "      <td>2900401.0</td>\n",
       "      <td>2895092.0</td>\n",
       "      <td>2889104.0</td>\n",
       "      <td>2880703.0</td>\n",
       "      <td>2876101.0</td>\n",
       "      <td>2873457.0</td>\n",
       "    </tr>\n",
       "    <tr>\n",
       "      <th>AND</th>\n",
       "      <td>13411.0</td>\n",
       "      <td>14375.0</td>\n",
       "      <td>15370.0</td>\n",
       "      <td>16412.0</td>\n",
       "      <td>17469.0</td>\n",
       "      <td>18549.0</td>\n",
       "      <td>19647.0</td>\n",
       "      <td>20758.0</td>\n",
       "      <td>21890.0</td>\n",
       "      <td>23058.0</td>\n",
       "      <td>...</td>\n",
       "      <td>83861.0</td>\n",
       "      <td>84462.0</td>\n",
       "      <td>84449.0</td>\n",
       "      <td>83751.0</td>\n",
       "      <td>82431.0</td>\n",
       "      <td>80788.0</td>\n",
       "      <td>79223.0</td>\n",
       "      <td>78014.0</td>\n",
       "      <td>77281.0</td>\n",
       "      <td>76965.0</td>\n",
       "    </tr>\n",
       "  </tbody>\n",
       "</table>\n",
       "<p>5 rows × 58 columns</p>\n",
       "</div>"
      ],
      "text/plain": [
       "                   1960       1961       1962       1963       1964  \\\n",
       "Country Code                                                          \n",
       "ABW             54211.0    55438.0    56225.0    56695.0    57032.0   \n",
       "AFG           8996351.0  9166764.0  9345868.0  9533954.0  9731361.0   \n",
       "AGO           5643182.0  5753024.0  5866061.0  5980417.0  6093321.0   \n",
       "ALB           1608800.0  1659800.0  1711319.0  1762621.0  1814135.0   \n",
       "AND             13411.0    14375.0    15370.0    16412.0    17469.0   \n",
       "\n",
       "                   1965        1966        1967        1968        1969  ...  \\\n",
       "Country Code                                                             ...   \n",
       "ABW             57360.0     57715.0     58055.0     58386.0     58726.0  ...   \n",
       "AFG           9938414.0  10152331.0  10372630.0  10604346.0  10854428.0  ...   \n",
       "AGO           6203299.0   6309770.0   6414995.0   6523791.0   6642632.0  ...   \n",
       "ALB           1864791.0   1914573.0   1965598.0   2022272.0   2081695.0  ...   \n",
       "AND             18549.0     19647.0     20758.0     21890.0     23058.0  ...   \n",
       "\n",
       "                    2008        2009        2010        2011        2012  \\\n",
       "Country Code                                                               \n",
       "ABW             101353.0    101453.0    101669.0    102053.0    102577.0   \n",
       "AFG           27294031.0  28004331.0  28803167.0  29708599.0  30696958.0   \n",
       "AGO           21759420.0  22549547.0  23369131.0  24218565.0  25096150.0   \n",
       "ALB            2947314.0   2927519.0   2913021.0   2905195.0   2900401.0   \n",
       "AND              83861.0     84462.0     84449.0     83751.0     82431.0   \n",
       "\n",
       "                    2013        2014        2015        2016        2017  \n",
       "Country Code                                                              \n",
       "ABW             103187.0    103795.0    104341.0    104822.0    105264.0  \n",
       "AFG           31731688.0  32758020.0  33736494.0  34656032.0  35530081.0  \n",
       "AGO           25998340.0  26920466.0  27859305.0  28813463.0  29784193.0  \n",
       "ALB            2895092.0   2889104.0   2880703.0   2876101.0   2873457.0  \n",
       "AND              80788.0     79223.0     78014.0     77281.0     76965.0  \n",
       "\n",
       "[5 rows x 58 columns]"
      ]
     },
     "execution_count": 2,
     "metadata": {},
     "output_type": "execute_result"
    }
   ],
   "source": [
    "population_df = pd.read_csv('https://raw.githubusercontent.com/Explore-AI/Public-Data/master/AnalyseProject/world_population.csv', index_col='Country Code')\n",
    "population_df.head()"
   ]
  },
  {
   "cell_type": "markdown",
   "id": "de45a481",
   "metadata": {},
   "source": [
    "## Analysis"
   ]
  },
  {
   "attachments": {},
   "cell_type": "markdown",
   "id": "5a0b7683",
   "metadata": {
    "tags": []
   },
   "source": [
    "### Challenge 1: Population growth\n",
    "\n",
    "The world population data spans from 1960 to 2017. We'd like to build a predictive model that can give us the best guess at what the population growth rate in a given year might be. We will calculate the population growth rate as follows:-\n",
    "\n",
    "$$\n",
    "Growth\\_rate = \\frac{current\\_year\\_population - previous\\_year\\_population}{previous\\_year\\_population}\n",
    "$$\n",
    "\n",
    "As such, we can only calculate the growth rate for the year 1961 onwards.\n",
    "\n",
    "Write a function that takes the `population_df` and a `country_code` as input and computes the population growth rate for a given country starting from the year 1961. This function must return a return a 2-d numpy array that contains the year and corresponding growth rate for the country.\n",
    "\n",
    "_**Function Specifications:**_\n",
    "* Should take a `population_df` and `country_code` string as input and return a numpy `array` as output.\n",
    "* The array should only have two columns containing the year and the population growth rate, in other words, it should have a shape `(?, 2)` where `?` is the length of the data.\n",
    "* The growth rates should be rounded to 5 decimal places"
   ]
  },
  {
   "cell_type": "code",
   "execution_count": 19,
   "id": "c2ee76ec",
   "metadata": {},
   "outputs": [],
   "source": [
    "def get_population_growth_rate_by_country_year(df, country_code):\n",
    "    # Extract the population data for the given country code\n",
    "    country_data = df.loc[country_code, '1961':]\n",
    "    \n",
    "    # Calculate the previous year's population values\n",
    "    previous_population_values = country_data.shift(1)\n",
    "    \n",
    "    # Calculate the growth rates\n",
    "    growth_rates = (country_data - previous_population_values) / previous_population_values\n",
    "    \n",
    "    # Remove the first row (since growth rate cannot be calculated for 1960)\n",
    "    growth_rates = growth_rates[1:]\n",
    "    \n",
    "    # Extract years and growth rates\n",
    "    years = growth_rates.index.astype(int)\n",
    "    growth_data = np.column_stack((years, growth_rates.values))\n",
    "    \n",
    "    # Round the growth rates to 8 decimal places (to match expected output)\n",
    "    growth_data[:, 1] = np.round(growth_data[:, 1], decimals=8)\n",
    "    \n",
    "    return growth_data\n"
   ]
  },
  {
   "cell_type": "markdown",
   "id": "de3132bb",
   "metadata": {},
   "source": [
    "Input:"
   ]
  },
  {
   "cell_type": "code",
   "execution_count": 20,
   "id": "2cc2bcc3",
   "metadata": {},
   "outputs": [
    {
     "data": {
      "text/plain": [
       "array([[ 1.962000e+03,  1.419604e-02],\n",
       "       [ 1.963000e+03,  8.359270e-03],\n",
       "       [ 1.964000e+03,  5.944090e-03],\n",
       "       [ 1.965000e+03,  5.751160e-03],\n",
       "       [ 1.966000e+03,  6.188980e-03],\n",
       "       [ 1.967000e+03,  5.891020e-03],\n",
       "       [ 1.968000e+03,  5.701490e-03],\n",
       "       [ 1.969000e+03,  5.823310e-03],\n",
       "       [ 1.970000e+03,  5.738510e-03],\n",
       "       [ 1.971000e+03,  6.383010e-03],\n",
       "       [ 1.972000e+03,  6.729480e-03],\n",
       "       [ 1.973000e+03,  6.734630e-03],\n",
       "       [ 1.974000e+03,  4.730840e-03],\n",
       "       [ 1.975000e+03,  2.131250e-03],\n",
       "       [ 1.976000e+03, -1.170520e-03],\n",
       "       [ 1.977000e+03, -3.631200e-03],\n",
       "       [ 1.978000e+03, -4.356760e-03],\n",
       "       [ 1.979000e+03, -2.046490e-03],\n",
       "       [ 1.980000e+03,  1.933980e-03],\n",
       "       [ 1.981000e+03,  7.837460e-03],\n",
       "       [ 1.982000e+03,  1.284528e-02],\n",
       "       [ 1.983000e+03,  1.395387e-02],\n",
       "       [ 1.984000e+03,  1.020884e-02],\n",
       "       [ 1.985000e+03,  3.023740e-03],\n",
       "       [ 1.986000e+03, -6.060990e-03],\n",
       "       [ 1.987000e+03, -1.294617e-02],\n",
       "       [ 1.988000e+03, -1.219414e-02],\n",
       "       [ 1.989000e+03, -7.695000e-04],\n",
       "       [ 1.990000e+03,  1.830187e-02],\n",
       "       [ 1.991000e+03,  3.979147e-02],\n",
       "       [ 1.992000e+03,  5.590975e-02],\n",
       "       [ 1.993000e+03,  6.256320e-02],\n",
       "       [ 1.994000e+03,  5.787267e-02],\n",
       "       [ 1.995000e+03,  4.724902e-02],\n",
       "       [ 1.996000e+03,  3.580499e-02],\n",
       "       [ 1.997000e+03,  2.705529e-02],\n",
       "       [ 1.998000e+03,  2.136897e-02],\n",
       "       [ 1.999000e+03,  1.979903e-02],\n",
       "       [ 2.000000e+03,  2.076288e-02],\n",
       "       [ 2.001000e+03,  2.250889e-02],\n",
       "       [ 2.002000e+03,  2.254085e-02],\n",
       "       [ 2.003000e+03,  2.131758e-02],\n",
       "       [ 2.004000e+03,  1.772885e-02],\n",
       "       [ 2.005000e+03,  1.310552e-02],\n",
       "       [ 2.006000e+03,  8.007520e-03],\n",
       "       [ 2.007000e+03,  3.847980e-03],\n",
       "       [ 2.008000e+03,  1.313970e-03],\n",
       "       [ 2.009000e+03,  9.866500e-04],\n",
       "       [ 2.010000e+03,  2.129060e-03],\n",
       "       [ 2.011000e+03,  3.776960e-03],\n",
       "       [ 2.012000e+03,  5.134590e-03],\n",
       "       [ 2.013000e+03,  5.946750e-03],\n",
       "       [ 2.014000e+03,  5.892220e-03],\n",
       "       [ 2.015000e+03,  5.260370e-03],\n",
       "       [ 2.016000e+03,  4.609880e-03],\n",
       "       [ 2.017000e+03,  4.216670e-03]])"
      ]
     },
     "execution_count": 20,
     "metadata": {},
     "output_type": "execute_result"
    }
   ],
   "source": [
    "get_population_growth_rate_by_country_year(population_df,'ABW')"
   ]
  },
  {
   "cell_type": "markdown",
   "id": "c584dbd2",
   "metadata": {},
   "source": [
    "Expected output:"
   ]
  },
  {
   "cell_type": "markdown",
   "id": "71369555",
   "metadata": {},
   "source": [
    "```\n",
    "array([[ 1.961e+03,  2.263e-02],\n",
    "       [ 1.962e+03,  1.420e-02],\n",
    "       [ 1.963e+03,  8.360e-03],\n",
    "       [ 1.964e+03,  5.940e-03],\n",
    "            ...       ....\n",
    "       [ 2.015e+03,  5.260e-03],\n",
    "       [ 2.016e+03,  4.610e-03],\n",
    "       [ 2.017e+03,  4.220e-03]])\n",
    "```"
   ]
  },
  {
   "attachments": {},
   "cell_type": "markdown",
   "id": "dc9b7dc6",
   "metadata": {},
   "source": [
    "### Challenge 2: Even-odd train-test split\n",
    "\n",
    "Now that we have our data, we need to divide it into two sets: the variables we will train on and the variables we will predict on. In this scenario, we're separating the variables so that the **training set contains growth rates for even years and the test set contains growth rates for odd years**. We also need to divide our data into the predictive features (`X`) and the response features (`y`). \n",
    "\n",
    "Write a function that will take a 2-D numpy array as input and return four variables in the form of `(X_train, y_train), (X_test, y_test)`, where `(X_train, y_train)` are the features and response variables of the training set, and `(X_test, y_test)` are the features and response variables of the testing set. The training and testing data consist of even and odd years, respectively. The function should return two tuples of the form `(X_train, y_train), (X_test, y_test)`.\n",
    "\n",
    "_**Function Specifications:**_\n",
    "* Should take a 2-d numpy `array` as input.\n",
    "* Should return two `tuples` of the form `(X_train, y_train), (X_test, y_test)`.\n",
    "* `(X_train, y_train)` should consist of data from even years and `(X_test, y_test)` should consist of data from odd years."
   ]
  },
  {
   "cell_type": "code",
   "execution_count": 27,
   "id": "ae48fab0",
   "metadata": {},
   "outputs": [],
   "source": [
    "def feature_response_split(arr):\n",
    "    \"\"\"\n",
    "    Splits the data into training and testing sets based on even and odd years.\n",
    "\n",
    "    Parameters:\n",
    "    - arr (numpy array): A 2D array containing years and corresponding growth rates.\n",
    "\n",
    "    Returns:\n",
    "    - (X_train, y_train): Tuple containing training features (even years) and response variables.\n",
    "    - (X_test, y_test): Tuple containing testing features (odd years) and response variables.\n",
    "    \"\"\"\n",
    "    # Ensure the array is sorted by year\n",
    "    arr = arr[arr[:, 0].argsort()]\n",
    "\n",
    "    # Split the data into even and odd years\n",
    "    even_years = arr[arr[:, 0] % 2 == 0]  # Even years for training\n",
    "    odd_years = arr[arr[:, 0] % 2 != 0]   # Odd years for testing\n",
    "\n",
    "    # Split the data into features (X) and response (y)\n",
    "    X_train = even_years[:, 0]  # Even years as training features\n",
    "    y_train = even_years[:, 1]  # Corresponding growth rates as training response\n",
    "    X_test = odd_years[:, 0]    # Odd years as testing features\n",
    "    y_test = odd_years[:, 1]    # Corresponding growth rates as testing response\n",
    "\n",
    "    # Flatten the arrays to match the expected output\n",
    "    X_train = X_train.flatten()\n",
    "    X_test = X_test.flatten()\n",
    "\n",
    "    # Return the tuples (X_train, y_train), (X_test, y_test)\n",
    "    return (X_train, y_train), (X_test, y_test)"
   ]
  },
  {
   "cell_type": "markdown",
   "id": "c44015d7",
   "metadata": {},
   "source": [
    "Input:"
   ]
  },
  {
   "cell_type": "code",
   "execution_count": 28,
   "id": "edbfa32b",
   "metadata": {},
   "outputs": [
    {
     "name": "stdout",
     "output_type": "stream",
     "text": [
      "X_train: [1962. 1964. 1966. 1968. 1970. 1972. 1974. 1976. 1978. 1980. 1982. 1984.\n",
      " 1986. 1988. 1990. 1992. 1994. 1996. 1998. 2000. 2002. 2004. 2006. 2008.\n",
      " 2010. 2012. 2014. 2016.]\n",
      "y_train: [ 0.01419604  0.00594409  0.00618898  0.00570149  0.00573851  0.00672948\n",
      "  0.00473084 -0.00117052 -0.00435676  0.00193398  0.01284528  0.01020884\n",
      " -0.00606099 -0.01219414  0.01830187  0.05590975  0.05787267  0.03580499\n",
      "  0.02136897  0.02076288  0.02254085  0.01772885  0.00800752  0.00131397\n",
      "  0.00212906  0.00513459  0.00589222  0.00460988]\n",
      "X_test: [1963. 1965. 1967. 1969. 1971. 1973. 1975. 1977. 1979. 1981. 1983. 1985.\n",
      " 1987. 1989. 1991. 1993. 1995. 1997. 1999. 2001. 2003. 2005. 2007. 2009.\n",
      " 2011. 2013. 2015. 2017.]\n",
      "y_test: [ 0.00835927  0.00575116  0.00589102  0.00582331  0.00638301  0.00673463\n",
      "  0.00213125 -0.0036312  -0.00204649  0.00783746  0.01395387  0.00302374\n",
      " -0.01294617 -0.0007695   0.03979147  0.0625632   0.04724902  0.02705529\n",
      "  0.01979903  0.02250889  0.02131758  0.01310552  0.00384798  0.00098665\n",
      "  0.00377696  0.00594675  0.00526037  0.00421667]\n"
     ]
    }
   ],
   "source": [
    "# Get the data for the country 'ABW'\n",
    "data = get_population_growth_rate_by_country_year(population_df, 'ABW')\n",
    "\n",
    "# Split the data into training and testing sets\n",
    "(X_train, y_train), (X_test, y_test) = feature_response_split(data)\n",
    "\n",
    "# Print the training and testing data\n",
    "print(\"X_train:\", X_train)\n",
    "print(\"y_train:\", y_train)\n",
    "print(\"X_test:\", X_test)\n",
    "print(\"y_test:\", y_test)"
   ]
  },
  {
   "cell_type": "markdown",
   "id": "c9751dcb",
   "metadata": {},
   "source": [
    "Expected output:"
   ]
  },
  {
   "cell_type": "markdown",
   "id": "e2f1efd5",
   "metadata": {},
   "source": [
    "```\n",
    "y_train ==  array([ 0.01419604,  0.00594409,  0.00618898,  0.00570149,  0.00573851,\n",
    "        0.00672948,  0.00473084, -0.00117052, -0.00435676,  0.00193398,\n",
    "        0.01284528,  0.01020884, -0.00606099, -0.01219414,  0.01830187,\n",
    "        0.05590975,  0.05787267,  0.03580499,  0.02136897,  0.02076288,\n",
    "        0.02254085,  0.01772885,  0.00800752,  0.00131397,  0.00212906,\n",
    "        0.00513459,  0.00589222,  0.00460988])\n",
    "```\n",
    "\n",
    "```\n",
    "X_test == array([1961., 1963., 1965., 1967., 1969., 1971., 1973., 1975., 1977.,\n",
    "       1979., 1981., 1983., 1985., 1987., 1989., 1991., 1993., 1995.,\n",
    "       1997., 1999., 2001., 2003., 2005., 2007., 2009., 2011., 2013.,\n",
    "       2015., 2017.])\n",
    "```\n",
    "\n",
    "```\n",
    "y_test == array([ 0.02263378,  0.00835927,  0.00575116,  0.00589102,  0.00582331,\n",
    "        0.00638301,  0.00673463,  0.00213125, -0.0036312 , -0.00204649,\n",
    "        0.00783746,  0.01395387,  0.00302374, -0.01294617, -0.0007695 ,\n",
    "        0.03979147,  0.0625632 ,  0.04724902,  0.02705529,  0.01979903,\n",
    "        0.02250889,  0.02131758,  0.01310552,  0.00384798,  0.00098665,\n",
    "        0.00377696,  0.00594675,  0.00526037,  0.00421667])      \n",
    " ```"
   ]
  },
  {
   "attachments": {},
   "cell_type": "markdown",
   "id": "aa09265c",
   "metadata": {},
   "source": [
    "### Question 3\n",
    "\n",
    "Now that we have formatted our data, we can fit a model using sklearn's `DecisionTreeRegressor` class. We'll write a function that will take as input the features and response variables that we created in the last question, and return a trained model.\n",
    "\n",
    "_**Function Specifications:**_\n",
    "* Should take two numpy `arrays` as input in the form `(X_train, y_train)` as well as a `MaxDepth` int corresponding to the max_depth hyperparameter in decision trees.\n",
    "* Should return an sklearn `DecisionTreeRegressor` model.\n",
    "* The returned model should be fitted to the data.\n",
    "\n",
    "_**Hint:**_\n",
    "You may need to reshape the data within the function. You can use `.reshape(-1, 1)` to do this."
   ]
  },
  {
   "cell_type": "code",
   "execution_count": 29,
   "id": "22984670",
   "metadata": {},
   "outputs": [],
   "source": [
    "\n",
    "def train_model(X_train, y_train, MaxDepth):\n",
    "    \"\"\"\n",
    "    Trains a DecisionTreeRegressor model using the provided training data.\n",
    "\n",
    "    Parameters:\n",
    "    - X_train (numpy array): The feature data (years) for training.\n",
    "    - y_train (numpy array): The response data (growth rates) for training.\n",
    "    - MaxDepth (int): The maximum depth of the decision tree.\n",
    "\n",
    "    Returns:\n",
    "    - model (DecisionTreeRegressor): The trained decision tree model.\n",
    "    \"\"\"\n",
    "    # Reshape X_train to a 2D array (required by scikit-learn)\n",
    "    X_train = X_train.reshape(-1, 1)\n",
    "    \n",
    "    # Initialize the DecisionTreeRegressor with the specified max_depth and random_state\n",
    "    model = DecisionTreeRegressor(max_depth=MaxDepth, random_state=42)\n",
    "    \n",
    "    # Fit the model to the training data\n",
    "    model.fit(X_train, y_train)\n",
    "    \n",
    "    # Return the trained model\n",
    "    return model\n"
   ]
  },
  {
   "cell_type": "markdown",
   "id": "90ab9f5e",
   "metadata": {},
   "source": [
    "Input:"
   ]
  },
  {
   "cell_type": "code",
   "execution_count": 30,
   "id": "52c5efb1",
   "metadata": {},
   "outputs": [
    {
     "name": "stdout",
     "output_type": "stream",
     "text": [
      "Prediction for 2017: [0.00451454]\n"
     ]
    }
   ],
   "source": [
    "data = get_population_growth_rate_by_country_year(population_df, 'ABW')\n",
    "(X_train, y_train), _ = feature_response_split(data)\n",
    "\n",
    "# Train the model with max_depth = 3 and random_state = 42\n",
    "model = train_model(X_train, y_train, MaxDepth=3)\n",
    "\n",
    "# Make a prediction for the year 2017\n",
    "prediction = model.predict([[2017]])\n",
    "print(\"Prediction for 2017:\", prediction)"
   ]
  },
  {
   "cell_type": "markdown",
   "id": "59712459",
   "metadata": {},
   "source": [
    "Expected output:"
   ]
  },
  {
   "cell_type": "markdown",
   "id": "3e8875e2",
   "metadata": {},
   "source": [
    "```\n",
    "array([0.00451454])\n",
    "```"
   ]
  },
  {
   "attachments": {},
   "cell_type": "markdown",
   "id": "14a50f5e",
   "metadata": {},
   "source": [
    "### Challenge 4\n",
    "\n",
    "Now we would like to test our model on the testing data that we produced in Exercise 2. This test will give the Root Mean Squared Logarithmic Error (RMSLE), which is determined by:\n",
    "\n",
    "$$\n",
    "RMSLE = \\sqrt{\\frac{1}{N}\\sum_{i=1}^N [log(1+p_i) - log(1+y_i)]^2}\n",
    "$$\n",
    "\n",
    "* *$p_i$ refers to the $i^{\\rm th}$ prediction made from `X_test` \n",
    "* $y_i$ refers to the $i^{\\rm th}$ value in `y_test`\n",
    "* $N$ is the length of `y_test`\n",
    "\n",
    "_**Function Specifications:**_\n",
    "* Should take a trained model and two `arrays` as input. This will be the `X_test` and `y_test` variables from Question 2. \n",
    "* Should calculate and return the Root Mean Squared Logarithmic Error (RMSLE) between the predicted values from `X_test` and the actual values in `y_test`.\n",
    "* The output should be a `float` rounded to 3 decimal places.\n",
    "\n"
   ]
  },
  {
   "cell_type": "code",
   "execution_count": 31,
   "id": "3b0ea2f8",
   "metadata": {},
   "outputs": [],
   "source": [
    "\n",
    "def test_model(model, y_test, X_test):\n",
    "    # Make predictions using the trained model\n",
    "    y_pred = model.predict(X_test.reshape(-1,1))\n",
    "    \n",
    "    # Compute the Root Mean Squared Logarithmic Error (RMSLE)\n",
    "    rmsle = np.sqrt(np.mean((np.log(1+y_pred) - np.log(1+y_test))**2))\n",
    "    \n",
    "    # Round the RMSLE value to 3 decimal places\n",
    "    rmsle_rounded = round(rmsle, 3)\n",
    "    \n",
    "    return rmsle_rounded\n"
   ]
  },
  {
   "cell_type": "markdown",
   "id": "e9e50777",
   "metadata": {},
   "source": [
    "Input:"
   ]
  },
  {
   "cell_type": "code",
   "execution_count": 32,
   "id": "2c1d59c3",
   "metadata": {},
   "outputs": [
    {
     "data": {
      "text/plain": [
       "0.007"
      ]
     },
     "execution_count": 32,
     "metadata": {},
     "output_type": "execute_result"
    }
   ],
   "source": [
    "data = get_population_growth_rate_by_country_year(population_df,'ABW')\n",
    "(X_train, y_train), (X_test, y_test) = feature_response_split(data)\n",
    "lm = train_model(X_train, y_train,3)\n",
    "test_model(lm, y_test, X_test)"
   ]
  },
  {
   "cell_type": "markdown",
   "id": "2a986cb0",
   "metadata": {},
   "source": [
    "Expected output:"
   ]
  },
  {
   "cell_type": "markdown",
   "id": "9b154f38",
   "metadata": {},
   "source": [
    "```\n",
    "0.007\n",
    "```"
   ]
  }
 ],
 "metadata": {
  "kernelspec": {
   "display_name": "Python 3 (ipykernel)",
   "language": "python",
   "name": "python3"
  },
  "language_info": {
   "codemirror_mode": {
    "name": "ipython",
    "version": 3
   },
   "file_extension": ".py",
   "mimetype": "text/x-python",
   "name": "python",
   "nbconvert_exporter": "python",
   "pygments_lexer": "ipython3",
   "version": "3.11.7"
  }
 },
 "nbformat": 4,
 "nbformat_minor": 5
}
