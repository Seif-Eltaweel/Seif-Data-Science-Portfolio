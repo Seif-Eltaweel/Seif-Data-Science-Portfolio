{
  "nbformat": 4,
  "nbformat_minor": 0,
  "metadata": {
    "colab": {
      "provenance": [],
      "authorship_tag": "ABX9TyPhabiJgTKL/jTBzHefAHdA",
      "include_colab_link": true
    },
    "kernelspec": {
      "name": "python3",
      "display_name": "Python 3"
    },
    "language_info": {
      "name": "python"
    }
  },
  "cells": [
    {
      "cell_type": "markdown",
      "metadata": {
        "id": "view-in-github",
        "colab_type": "text"
      },
      "source": [
        "<a href=\"https://colab.research.google.com/github/Seif-Eltaweel/Seif-Data-Science-Portfolio/blob/main/Movie_project.ipynb\" target=\"_parent\"><img src=\"https://colab.research.google.com/assets/colab-badge.svg\" alt=\"Open In Colab\"/></a>"
      ]
    },
    {
      "cell_type": "markdown",
      "source": [
        "## The TMDb database\n",
        "\n",
        "In this supplementary exam, you will be exploring [The Movie Database](https://www.themoviedb.org/) – an online movie and TV show database that houses some of the most popular movies and TV shows at your fingertips. The TMDb database supports 39 official languages used in over 180 countries daily and dates back all the way to 2008.\n",
        "\n",
        "\n",
        "<img src=\"https://github.com/Explore-AI/Pictures/blob/master/sql_tmdb.jpg?raw=true\" width=80%/>\n",
        "\n",
        "\n",
        "Below is an Entity Relationship Diagram (ERD) of the TMDb database:\n",
        "\n",
        "<img src=\"https://github.com/Explore-AI/Pictures/blob/master/TMDB_ER_diagram.png?raw=true\" width=70%/>\n",
        "\n",
        "As can be seen from the ERD, the TMDb database consists of `12 tables` containing information about movies, cast, genre, and so much more.  \n",
        "\n",
        "Let's get started!"
      ],
      "metadata": {
        "id": "wKAWdOAtHE5T"
      }
    },
    {
      "cell_type": "markdown",
      "source": [
        "###Loading the data\n",
        "\n"
      ],
      "metadata": {
        "id": "swloutWQsfZq"
      }
    },
    {
      "cell_type": "code",
      "source": [
        "'/content/TMDB-a-4006.db'"
      ],
      "metadata": {
        "colab": {
          "base_uri": "https://localhost:8080/",
          "height": 36
        },
        "id": "REhLE_APAiDx",
        "outputId": "d1bcec80-6c44-49e1-8e0f-c1d5282aca7d"
      },
      "execution_count": 1,
      "outputs": [
        {
          "output_type": "execute_result",
          "data": {
            "text/plain": [
              "'/content/TMDB-a-4006.db'"
            ],
            "application/vnd.google.colaboratory.intrinsic+json": {
              "type": "string"
            }
          },
          "metadata": {},
          "execution_count": 1
        }
      ]
    },
    {
      "cell_type": "code",
      "source": [
        "%reload_ext sql"
      ],
      "metadata": {
        "id": "_tQGeaZjDmIk"
      },
      "execution_count": 2,
      "outputs": []
    },
    {
      "cell_type": "code",
      "source": [
        "%sql sqlite:///TMDB-a-4006.db"
      ],
      "metadata": {
        "id": "H2jDG6OhDup1"
      },
      "execution_count": 3,
      "outputs": []
    },
    {
      "cell_type": "markdown",
      "source": [
        "### Question 1\n",
        "Who won the Oscar for “Actor in a Leading Role” in 2015?\n",
        "\n",
        "(Hint: The winner is indicated as '1.0'.)"
      ],
      "metadata": {
        "id": "KqjzWWFPGEB7"
      }
    },
    {
      "cell_type": "code",
      "source": [
        "%sql PRAGMA integrity_check;"
      ],
      "metadata": {
        "colab": {
          "base_uri": "https://localhost:8080/",
          "height": 95
        },
        "id": "RAYgoHOn6SRX",
        "outputId": "5ff5cd20-32b9-4aad-faa6-1c8e3869d34b"
      },
      "execution_count": 5,
      "outputs": [
        {
          "output_type": "stream",
          "name": "stdout",
          "text": [
            " * sqlite:///TMDB-a-4006.db\n",
            "Done.\n"
          ]
        },
        {
          "output_type": "execute_result",
          "data": {
            "text/plain": [
              "[('ok',)]"
            ],
            "text/html": [
              "<table>\n",
              "    <tr>\n",
              "        <th>integrity_check</th>\n",
              "    </tr>\n",
              "    <tr>\n",
              "        <td>ok</td>\n",
              "    </tr>\n",
              "</table>"
            ]
          },
          "metadata": {},
          "execution_count": 5
        }
      ]
    },
    {
      "cell_type": "code",
      "source": [
        "%%sql\n",
        "   SELECT * FROM oscars\n",
        "   WHERE year = 2015\n",
        "   AND award LIKE 'Actor in a Leading Role'\n",
        "   AND Winner = '1.0'\n",
        "   LIMIT 15;"
      ],
      "metadata": {
        "colab": {
          "base_uri": "https://localhost:8080/",
          "height": 95
        },
        "id": "SWFSFHe3D4tY",
        "outputId": "688ef50a-4f3b-46f3-ee8b-d0d25c7880a1"
      },
      "execution_count": 6,
      "outputs": [
        {
          "output_type": "stream",
          "name": "stdout",
          "text": [
            " * sqlite:///TMDB-a-4006.db\n",
            "Done.\n"
          ]
        },
        {
          "output_type": "execute_result",
          "data": {
            "text/plain": [
              "[('2015', 'Actor in a Leading Role', '1.0', 'Leonardo DiCaprio', 'The Revenant')]"
            ],
            "text/html": [
              "<table>\n",
              "    <tr>\n",
              "        <th>year</th>\n",
              "        <th>award</th>\n",
              "        <th>winner</th>\n",
              "        <th>name</th>\n",
              "        <th>film</th>\n",
              "    </tr>\n",
              "    <tr>\n",
              "        <td>2015</td>\n",
              "        <td>Actor in a Leading Role</td>\n",
              "        <td>1.0</td>\n",
              "        <td>Leonardo DiCaprio</td>\n",
              "        <td>The Revenant</td>\n",
              "    </tr>\n",
              "</table>"
            ]
          },
          "metadata": {},
          "execution_count": 6
        }
      ]
    },
    {
      "cell_type": "markdown",
      "source": [
        "So the asnswer is **Leonardo DiCaprio**"
      ],
      "metadata": {
        "id": "gOSSLe9JFxda"
      }
    },
    {
      "cell_type": "markdown",
      "source": [
        "###Question 2\n",
        "\n",
        "What query will produce the ten oldest movies in the database?"
      ],
      "metadata": {
        "id": "NYtqOg3cGrne"
      }
    },
    {
      "cell_type": "code",
      "source": [
        "%%sql\n",
        "SELECT * FROM movies WHERE release_date IS NOT NULL ORDER BY release_date ASC LIMIT 10 ;"
      ],
      "metadata": {
        "colab": {
          "base_uri": "https://localhost:8080/",
          "height": 1000
        },
        "id": "nkW_b1hHHlxQ",
        "outputId": "c06744ba-b7c4-40c2-da40-73c2da481597"
      },
      "execution_count": 10,
      "outputs": [
        {
          "output_type": "stream",
          "name": "stdout",
          "text": [
            " * sqlite:///TMDB-a-4006.db\n",
            "Done.\n"
          ]
        },
        {
          "output_type": "execute_result",
          "data": {
            "text/plain": [
              "[(3059, 'Intolerance', '1916-09-04 00:00:00.000000', 385907, None, 'en', 'Intolerance', 'The story of a poor young woman, separated by prejudice from her husband and baby, is interwoven with tales of intolerance from throughout history.', 3.232447, 8394751.0, 197.0, 'Released', 'The Cruel Hand of Intolerance', 7.4, 60),\n",
              " (3060, 'The Big Parade', '1925-11-05 00:00:00.000000', 245000, None, 'en', 'The Big Parade', \"The story of an idle rich boy who joins the US Army's Rainbow Division and is sent to France to fight in World War I, becomes friends with two working class men, experiences the horrors of trench warfare, and finds love with a French girl.\", 0.785744, 22000000.0, 151.0, 'Released', None, 7.0, 21),\n",
              " (19, 'Metropolis', '1927-01-10 00:00:00.000000', 92620000, None, 'de', 'Metropolis', \"In a futuristic city sharply divided between the working class and the city planners, the son of the city's mastermind falls in love with a working class prophet who predicts the coming of a savior to mediate their differences.\", 32.351527, 650422.0, 153.0, 'Released', 'There can be no understanding between the hands and the brain unless the heart acts as mediator.', 8.0, 657),\n",
              " (905, \"Pandora's Box\", '1929-01-30 00:00:00.000000', 0, None, 'de', 'Die Bnchse der Pandora', 'The rise and inevitable fall of an amoral but naive young woman whose insouciant eroticism inspires lust and violence in those around her.', 1.824184, 0.0, 109.0, 'Released', None, 7.6, 45),\n",
              " (65203, 'The Broadway Melody', '1929-02-08 00:00:00.000000', 379000, None, 'en', 'The Broadway Melody', \"Harriet and Queenie Mahoney, a vaudeville act, come to Broadway, where their friend Eddie Kerns needs them for his number in one of Francis Zanfield' ... (195 characters truncated) ... eenie recognizes, that she is for Jock nothing more than a toy, and it also takes a while till Harriet recognizes, that Eddie is in love with Queenie\", 0.968865, 4358000.0, 100.0, 'Released', \"The pulsating drama of Broadway's bared heart speaks and sings with a voice to stir your soul!\", 5.0, 19),\n",
              " (22301, \"Hell's Angels\", '1930-11-15 00:00:00.000000', 3950000, None, 'en', \"Hell's Angels\", \"Two brothers attending Oxford enlist with the Royal Flying Corps when World War I breaks out. Roy and Monte Rutledge have very different personalitie ... (576 characters truncated) ... t a strategic German munitions facility is a booming success, but with a squadron of fighters bearing down on them afterwards, escape seems unlikely.\", 8.484123, 8000000.0, 127.0, 'Released', \"Howard Hughes' Thrilling Multi-Million Dollar Air Spectacle\", 6.1, 19),\n",
              " (22649, 'A Farewell to Arms', '1932-12-08 00:00:00.000000', 4, None, 'en', 'A Farewell to Arms', \"British nurse Catherine Barkley (Helen Hayes) and American Lieutenant Frederic Henry (Gary Cooper) fall in love during the First World War in Italy.  ... (105 characters truncated) ... the war rages on. Academy Awards winner for Best Cinematography and for Best Sound, Recording. Nominated for Best Picture and for Best Art Direction.\", 1.199451, 25.0, 89.0, 'Released', 'Every woman who has loved will understand', 6.2, 28),\n",
              " (3062, '42nd Street', '1933-02-02 00:00:00.000000', 439000, None, 'en', '42nd Street', 'A producer puts on what may be his last Broadway show, and at the last moment a chorus girl has to replace the star.', 1.933366, 2281000.0, 89.0, 'Released', None, 6.1, 37),\n",
              " (43595, 'She Done Him Wrong', '1933-02-09 00:00:00.000000', 200000, None, 'en', 'She Done Him Wrong', '\"New York singer and nightclub owner Lady Lou has more men friends than you can imagine. Unfortunately one of them is a vicious criminal who\\'s escap ... (52 characters truncated) ... ing she hasn\\'t exactly been faithful in his absence. Help is at hand in the form of young Captain Cummings a local temperance league leader though.\"', 0.622752, 2200000.0, 66.0, 'Released', \"Mae West gives a 'Hot Time' to the nation!\", 5.1, 27),\n",
              " (3078, 'It Happened One Night', '1934-02-22 00:00:00.000000', 325000, None, 'en', 'It Happened One Night', \"Ellie Andrews has just tied the knot with society aviator King Westley when she is whisked away to her father's yacht and out of King's clutches. Ell ... (233 characters truncated) ... ts her back to her husband, or he'll blow the whistle on Ellie to her father. Either way, Peter gets what he wants... a really juicy newspaper story!\", 11.871424, 4500000.0, 105.0, 'Released', 'TOGETHER... for the first time', 7.7, 275)]"
            ],
            "text/html": [
              "<table>\n",
              "    <tr>\n",
              "        <th>movie_id</th>\n",
              "        <th>title</th>\n",
              "        <th>release_date</th>\n",
              "        <th>budget</th>\n",
              "        <th>homepage</th>\n",
              "        <th>original_language</th>\n",
              "        <th>original_title</th>\n",
              "        <th>overview</th>\n",
              "        <th>popularity</th>\n",
              "        <th>revenue</th>\n",
              "        <th>runtime</th>\n",
              "        <th>release_status</th>\n",
              "        <th>tagline</th>\n",
              "        <th>vote_average</th>\n",
              "        <th>vote_count</th>\n",
              "    </tr>\n",
              "    <tr>\n",
              "        <td>3059</td>\n",
              "        <td>Intolerance</td>\n",
              "        <td>1916-09-04 00:00:00.000000</td>\n",
              "        <td>385907</td>\n",
              "        <td>None</td>\n",
              "        <td>en</td>\n",
              "        <td>Intolerance</td>\n",
              "        <td>The story of a poor young woman, separated by prejudice from her husband and baby, is interwoven with tales of intolerance from throughout history.</td>\n",
              "        <td>3.232447</td>\n",
              "        <td>8394751.0</td>\n",
              "        <td>197.0</td>\n",
              "        <td>Released</td>\n",
              "        <td>The Cruel Hand of Intolerance</td>\n",
              "        <td>7.4</td>\n",
              "        <td>60</td>\n",
              "    </tr>\n",
              "    <tr>\n",
              "        <td>3060</td>\n",
              "        <td>The Big Parade</td>\n",
              "        <td>1925-11-05 00:00:00.000000</td>\n",
              "        <td>245000</td>\n",
              "        <td>None</td>\n",
              "        <td>en</td>\n",
              "        <td>The Big Parade</td>\n",
              "        <td>The story of an idle rich boy who joins the US Army&#x27;s Rainbow Division and is sent to France to fight in World War I, becomes friends with two working class men, experiences the horrors of trench warfare, and finds love with a French girl.</td>\n",
              "        <td>0.785744</td>\n",
              "        <td>22000000.0</td>\n",
              "        <td>151.0</td>\n",
              "        <td>Released</td>\n",
              "        <td>None</td>\n",
              "        <td>7.0</td>\n",
              "        <td>21</td>\n",
              "    </tr>\n",
              "    <tr>\n",
              "        <td>19</td>\n",
              "        <td>Metropolis</td>\n",
              "        <td>1927-01-10 00:00:00.000000</td>\n",
              "        <td>92620000</td>\n",
              "        <td>None</td>\n",
              "        <td>de</td>\n",
              "        <td>Metropolis</td>\n",
              "        <td>In a futuristic city sharply divided between the working class and the city planners, the son of the city&#x27;s mastermind falls in love with a working class prophet who predicts the coming of a savior to mediate their differences.</td>\n",
              "        <td>32.351527</td>\n",
              "        <td>650422.0</td>\n",
              "        <td>153.0</td>\n",
              "        <td>Released</td>\n",
              "        <td>There can be no understanding between the hands and the brain unless the heart acts as mediator.</td>\n",
              "        <td>8.0</td>\n",
              "        <td>657</td>\n",
              "    </tr>\n",
              "    <tr>\n",
              "        <td>905</td>\n",
              "        <td>Pandora&#x27;s Box</td>\n",
              "        <td>1929-01-30 00:00:00.000000</td>\n",
              "        <td>0</td>\n",
              "        <td>None</td>\n",
              "        <td>de</td>\n",
              "        <td>Die Bnchse der Pandora</td>\n",
              "        <td>The rise and inevitable fall of an amoral but naive young woman whose insouciant eroticism inspires lust and violence in those around her.</td>\n",
              "        <td>1.824184</td>\n",
              "        <td>0.0</td>\n",
              "        <td>109.0</td>\n",
              "        <td>Released</td>\n",
              "        <td>None</td>\n",
              "        <td>7.6</td>\n",
              "        <td>45</td>\n",
              "    </tr>\n",
              "    <tr>\n",
              "        <td>65203</td>\n",
              "        <td>The Broadway Melody</td>\n",
              "        <td>1929-02-08 00:00:00.000000</td>\n",
              "        <td>379000</td>\n",
              "        <td>None</td>\n",
              "        <td>en</td>\n",
              "        <td>The Broadway Melody</td>\n",
              "        <td>Harriet and Queenie Mahoney, a vaudeville act, come to Broadway, where their friend Eddie Kerns needs them for his number in one of Francis Zanfield&#x27;s shows. Eddie was in love with Harriet, but when he meets Queenie, he falls in love to her, but she is courted by Jock Warriner, a member of the New Yorker high society. It takes a while till Queenie recognizes, that she is for Jock nothing more than a toy, and it also takes a while till Harriet recognizes, that Eddie is in love with Queenie</td>\n",
              "        <td>0.968865</td>\n",
              "        <td>4358000.0</td>\n",
              "        <td>100.0</td>\n",
              "        <td>Released</td>\n",
              "        <td>The pulsating drama of Broadway&#x27;s bared heart speaks and sings with a voice to stir your soul!</td>\n",
              "        <td>5.0</td>\n",
              "        <td>19</td>\n",
              "    </tr>\n",
              "    <tr>\n",
              "        <td>22301</td>\n",
              "        <td>Hell&#x27;s Angels</td>\n",
              "        <td>1930-11-15 00:00:00.000000</td>\n",
              "        <td>3950000</td>\n",
              "        <td>None</td>\n",
              "        <td>en</td>\n",
              "        <td>Hell&#x27;s Angels</td>\n",
              "        <td>Two brothers attending Oxford enlist with the Royal Flying Corps when World War I breaks out. Roy and Monte Rutledge have very different personalities. Monte is a freewheeling womanizer, even with his brother&#x27;s girlfriend Helen. He also proves to have a yellow streak when it comes to his Night Patrol duties. Roy is made of strong moral fiber and attempts to keep his brother in line. Both volunteer for an extremely risky two man bombing mission for different reasons. Monte wants to lose his cowardly reputation and Roy seeks to protect his brother. Roy loves Helen; Helen enjoys an affair with Monte; before they leave on their mission over Germany they find her in still another man&#x27;s arms.  Their assignment to knock out a strategic German munitions facility is a booming success, but with a squadron of fighters bearing down on them afterwards, escape seems unlikely.</td>\n",
              "        <td>8.484123</td>\n",
              "        <td>8000000.0</td>\n",
              "        <td>127.0</td>\n",
              "        <td>Released</td>\n",
              "        <td>Howard Hughes&#x27; Thrilling Multi-Million Dollar Air Spectacle</td>\n",
              "        <td>6.1</td>\n",
              "        <td>19</td>\n",
              "    </tr>\n",
              "    <tr>\n",
              "        <td>22649</td>\n",
              "        <td>A Farewell to Arms</td>\n",
              "        <td>1932-12-08 00:00:00.000000</td>\n",
              "        <td>4</td>\n",
              "        <td>None</td>\n",
              "        <td>en</td>\n",
              "        <td>A Farewell to Arms</td>\n",
              "        <td>British nurse Catherine Barkley (Helen Hayes) and American Lieutenant Frederic Henry (Gary Cooper) fall in love during the First World War in Italy. Eventually separated by Frederic&#x27;s transfer, tremendous challenges and difficult decisions face each, as the war rages on. Academy Awards winner for Best Cinematography and for Best Sound, Recording. Nominated for Best Picture and for Best Art Direction.</td>\n",
              "        <td>1.199451</td>\n",
              "        <td>25.0</td>\n",
              "        <td>89.0</td>\n",
              "        <td>Released</td>\n",
              "        <td>Every woman who has loved will understand</td>\n",
              "        <td>6.2</td>\n",
              "        <td>28</td>\n",
              "    </tr>\n",
              "    <tr>\n",
              "        <td>3062</td>\n",
              "        <td>42nd Street</td>\n",
              "        <td>1933-02-02 00:00:00.000000</td>\n",
              "        <td>439000</td>\n",
              "        <td>None</td>\n",
              "        <td>en</td>\n",
              "        <td>42nd Street</td>\n",
              "        <td>A producer puts on what may be his last Broadway show, and at the last moment a chorus girl has to replace the star.</td>\n",
              "        <td>1.933366</td>\n",
              "        <td>2281000.0</td>\n",
              "        <td>89.0</td>\n",
              "        <td>Released</td>\n",
              "        <td>None</td>\n",
              "        <td>6.1</td>\n",
              "        <td>37</td>\n",
              "    </tr>\n",
              "    <tr>\n",
              "        <td>43595</td>\n",
              "        <td>She Done Him Wrong</td>\n",
              "        <td>1933-02-09 00:00:00.000000</td>\n",
              "        <td>200000</td>\n",
              "        <td>None</td>\n",
              "        <td>en</td>\n",
              "        <td>She Done Him Wrong</td>\n",
              "        <td>&quot;New York singer and nightclub owner Lady Lou has more men friends than you can imagine. Unfortunately one of them is a vicious criminal who&#x27;s escaped and is on the way to see &quot;&quot;his&quot;&quot; girl, not realising she hasn&#x27;t exactly been faithful in his absence. Help is at hand in the form of young Captain Cummings a local temperance league leader though.&quot;</td>\n",
              "        <td>0.622752</td>\n",
              "        <td>2200000.0</td>\n",
              "        <td>66.0</td>\n",
              "        <td>Released</td>\n",
              "        <td>Mae West gives a &#x27;Hot Time&#x27; to the nation!</td>\n",
              "        <td>5.1</td>\n",
              "        <td>27</td>\n",
              "    </tr>\n",
              "    <tr>\n",
              "        <td>3078</td>\n",
              "        <td>It Happened One Night</td>\n",
              "        <td>1934-02-22 00:00:00.000000</td>\n",
              "        <td>325000</td>\n",
              "        <td>None</td>\n",
              "        <td>en</td>\n",
              "        <td>It Happened One Night</td>\n",
              "        <td>Ellie Andrews has just tied the knot with society aviator King Westley when she is whisked away to her father&#x27;s yacht and out of King&#x27;s clutches. Ellie jumps ship and eventually winds up on a bus headed back to her husband. Reluctantly she must accept the help of out-of- work reporter Peter Warne. Actually, Warne doesn&#x27;t give her any choice: either she sticks with him until he gets her back to her husband, or he&#x27;ll blow the whistle on Ellie to her father. Either way, Peter gets what he wants... a really juicy newspaper story!</td>\n",
              "        <td>11.871424</td>\n",
              "        <td>4500000.0</td>\n",
              "        <td>105.0</td>\n",
              "        <td>Released</td>\n",
              "        <td>TOGETHER... for the first time</td>\n",
              "        <td>7.7</td>\n",
              "        <td>275</td>\n",
              "    </tr>\n",
              "</table>"
            ]
          },
          "metadata": {},
          "execution_count": 10
        }
      ]
    },
    {
      "cell_type": "markdown",
      "source": [
        "The answer is : SELECT * FROM movies WHERE release_date IS NOT NULL ORDER BY release_date ASC LIMIT 10 ;"
      ],
      "metadata": {
        "id": "Nwl4xNhfIauo"
      }
    },
    {
      "cell_type": "markdown",
      "source": [
        "###Question 3\n",
        "How many unique awards are there in the Oscars table?"
      ],
      "metadata": {
        "id": "q3gOZMrxIwCQ"
      }
    },
    {
      "cell_type": "code",
      "source": [
        "%%sql\n",
        "SELECT COUNT(DISTINCT award) AS unique_awards FROM oscars;\n"
      ],
      "metadata": {
        "colab": {
          "base_uri": "https://localhost:8080/",
          "height": 95
        },
        "id": "0ndtox65Ir3O",
        "outputId": "675a78ed-9f1c-483d-c3ca-6688f1a45b1b"
      },
      "execution_count": 7,
      "outputs": [
        {
          "output_type": "stream",
          "name": "stdout",
          "text": [
            " * sqlite:///TMDB-a-4006.db\n",
            "Done.\n"
          ]
        },
        {
          "output_type": "execute_result",
          "data": {
            "text/plain": [
              "[(114,)]"
            ],
            "text/html": [
              "<table>\n",
              "    <tr>\n",
              "        <th>unique_awards</th>\n",
              "    </tr>\n",
              "    <tr>\n",
              "        <td>114</td>\n",
              "    </tr>\n",
              "</table>"
            ]
          },
          "metadata": {},
          "execution_count": 7
        }
      ]
    },
    {
      "cell_type": "markdown",
      "source": [
        "The answer is : **114**"
      ],
      "metadata": {
        "id": "jAhaBCR3JNxC"
      }
    },
    {
      "cell_type": "markdown",
      "source": [
        "### Question 4\n",
        "\n",
        "How many movies are there that contain the word “Spider” within their title?"
      ],
      "metadata": {
        "id": "ylxGI1bzJTrA"
      }
    },
    {
      "cell_type": "code",
      "source": [
        "%%sql\n",
        "    Select count(title) as spider_title\n",
        "    from movies\n",
        "    where title like '%spider%' ;"
      ],
      "metadata": {
        "colab": {
          "base_uri": "https://localhost:8080/",
          "height": 95
        },
        "id": "U8vOtL4SJTCM",
        "outputId": "43268a04-dc2f-4c22-a647-23754186ad9c"
      },
      "execution_count": 15,
      "outputs": [
        {
          "output_type": "stream",
          "name": "stdout",
          "text": [
            " * sqlite:///TMDB-a-4006.db\n",
            "Done.\n"
          ]
        },
        {
          "output_type": "execute_result",
          "data": {
            "text/plain": [
              "[(9,)]"
            ],
            "text/html": [
              "<table>\n",
              "    <tr>\n",
              "        <th>spider_title</th>\n",
              "    </tr>\n",
              "    <tr>\n",
              "        <td>9</td>\n",
              "    </tr>\n",
              "</table>"
            ]
          },
          "metadata": {},
          "execution_count": 15
        }
      ]
    },
    {
      "cell_type": "markdown",
      "source": [
        "### Question 5\n",
        "\n",
        "How many movies are there that are both in the \"Thriller\" genre and contain the word “love” anywhere in the keywords?\n",
        "\n"
      ],
      "metadata": {
        "id": "GUn2QZ2aJjvp"
      }
    },
    {
      "cell_type": "markdown",
      "source": [
        "The answer is : **9**"
      ],
      "metadata": {
        "id": "mlzHn8hgJeOQ"
      }
    },
    {
      "cell_type": "code",
      "source": [
        "%%sql\n",
        "      SELECT count(movies.movie_id) as love_thrilled_movies\n",
        "      from movies\n",
        "        JOIN genremap\n",
        "        ON genremap.movie_id = movies.movie_id\n",
        "        join keywordmap\n",
        "        on keywordmap.movie_id = movies.movie_id\n",
        "\n",
        "where genremap.genre_id =53\n",
        "and keyword_id = 9673\n",
        ";\n",
        ""
      ],
      "metadata": {
        "colab": {
          "base_uri": "https://localhost:8080/",
          "height": 95
        },
        "id": "opwB0jyyJdOZ",
        "outputId": "510cacc4-ec60-4920-ce1f-566a5c567dfb"
      },
      "execution_count": 16,
      "outputs": [
        {
          "output_type": "stream",
          "name": "stdout",
          "text": [
            " * sqlite:///TMDB-a-4006.db\n",
            "Done.\n"
          ]
        },
        {
          "output_type": "execute_result",
          "data": {
            "text/plain": [
              "[(14,)]"
            ],
            "text/html": [
              "<table>\n",
              "    <tr>\n",
              "        <th>love_thrilled_movies</th>\n",
              "    </tr>\n",
              "    <tr>\n",
              "        <td>14</td>\n",
              "    </tr>\n",
              "</table>"
            ]
          },
          "metadata": {},
          "execution_count": 16
        }
      ]
    },
    {
      "cell_type": "markdown",
      "source": [
        "The answer is : **14**"
      ],
      "metadata": {
        "id": "BX7c6BlUJuWe"
      }
    },
    {
      "cell_type": "markdown",
      "source": [
        "### Question 6\n",
        "\n",
        "How many movies are there that were released between 1 August 2006 ('2006-08-01') and 1 October 2009 ('2009-10-01') that have a popularity score of more than 40 and a budget of less than 50 000 000?"
      ],
      "metadata": {
        "id": "TfRO_nCpKGuy"
      }
    },
    {
      "cell_type": "code",
      "source": [
        "%%sql\n",
        "     SELECT COUNT(*)\n",
        "FROM movies\n",
        "WHERE release_date BETWEEN '2006-08-01' AND '2009-10-01'\n",
        "AND popularity > 40\n",
        "AND budget < 50000000\n",
        ";\n"
      ],
      "metadata": {
        "colab": {
          "base_uri": "https://localhost:8080/",
          "height": 95
        },
        "id": "6ZIJQm1iJtKN",
        "outputId": "8285b190-7f33-4467-c0e9-cca207b08b4d"
      },
      "execution_count": 17,
      "outputs": [
        {
          "output_type": "stream",
          "name": "stdout",
          "text": [
            " * sqlite:///TMDB-a-4006.db\n",
            "Done.\n"
          ]
        },
        {
          "output_type": "execute_result",
          "data": {
            "text/plain": [
              "[(29,)]"
            ],
            "text/html": [
              "<table>\n",
              "    <tr>\n",
              "        <th>COUNT(*)</th>\n",
              "    </tr>\n",
              "    <tr>\n",
              "        <td>29</td>\n",
              "    </tr>\n",
              "</table>"
            ]
          },
          "metadata": {},
          "execution_count": 17
        }
      ]
    },
    {
      "cell_type": "markdown",
      "source": [
        "The answer is : **29**"
      ],
      "metadata": {
        "id": "7AZlRmbSKOII"
      }
    },
    {
      "cell_type": "markdown",
      "source": [
        "### Question 7\n",
        "\n",
        "How many unique characters has \"Vin Diesel\" played so far in the database?\n"
      ],
      "metadata": {
        "id": "E2OqA2KdKSLy"
      }
    },
    {
      "cell_type": "code",
      "source": [
        "%%sql\n",
        "     select count(DISTINCT characters)\n",
        "    from Casts\n",
        "    where actor_id = 12835\n",
        " ;"
      ],
      "metadata": {
        "colab": {
          "base_uri": "https://localhost:8080/",
          "height": 95
        },
        "id": "LGy02P7iKM_F",
        "outputId": "8cf22cdd-45e3-4a69-eed3-cc72387d7112"
      },
      "execution_count": 18,
      "outputs": [
        {
          "output_type": "stream",
          "name": "stdout",
          "text": [
            " * sqlite:///TMDB-a-4006.db\n",
            "Done.\n"
          ]
        },
        {
          "output_type": "execute_result",
          "data": {
            "text/plain": [
              "[(16,)]"
            ],
            "text/html": [
              "<table>\n",
              "    <tr>\n",
              "        <th>count(DISTINCT characters)</th>\n",
              "    </tr>\n",
              "    <tr>\n",
              "        <td>16</td>\n",
              "    </tr>\n",
              "</table>"
            ]
          },
          "metadata": {},
          "execution_count": 18
        }
      ]
    },
    {
      "cell_type": "markdown",
      "source": [
        "The answer is : **16**"
      ],
      "metadata": {
        "id": "Jclk5eJzKYJ4"
      }
    },
    {
      "cell_type": "markdown",
      "source": [
        "### Question 8\n",
        "\n",
        "What are the genres of the movie “The Royal Tenenbaums”?"
      ],
      "metadata": {
        "id": "6TPEHMRaKdRz"
      }
    },
    {
      "cell_type": "code",
      "source": [
        "%%sql\n",
        "select DISTINCT * from genres where genre_id = 18 or genre_id = 35 ;"
      ],
      "metadata": {
        "colab": {
          "base_uri": "https://localhost:8080/",
          "height": 116
        },
        "id": "h9uAogdzKXLi",
        "outputId": "675d1bf0-0653-4533-8f0a-4e7aa618e8fe"
      },
      "execution_count": 19,
      "outputs": [
        {
          "output_type": "stream",
          "name": "stdout",
          "text": [
            " * sqlite:///TMDB-a-4006.db\n",
            "Done.\n"
          ]
        },
        {
          "output_type": "execute_result",
          "data": {
            "text/plain": [
              "[(18, 'Drama'), (35, 'Comedy')]"
            ],
            "text/html": [
              "<table>\n",
              "    <tr>\n",
              "        <th>genre_id</th>\n",
              "        <th>genre_name</th>\n",
              "    </tr>\n",
              "    <tr>\n",
              "        <td>18</td>\n",
              "        <td>Drama</td>\n",
              "    </tr>\n",
              "    <tr>\n",
              "        <td>35</td>\n",
              "        <td>Comedy</td>\n",
              "    </tr>\n",
              "</table>"
            ]
          },
          "metadata": {},
          "execution_count": 19
        }
      ]
    },
    {
      "cell_type": "markdown",
      "source": [
        "The abswer is : **Drama, Comedy**"
      ],
      "metadata": {
        "id": "JLHAoe30KvES"
      }
    },
    {
      "cell_type": "markdown",
      "source": [
        "### Question 9\n",
        "\n",
        "What are the three production companies that have the highest movie popularity score on average, as recorded within the database?"
      ],
      "metadata": {
        "id": "Y9N66QrCK2mn"
      }
    },
    {
      "cell_type": "code",
      "source": [
        "%%sql\n",
        "    select  movies.movie_id,\n",
        "            avg(movies.popularity) as avg_popularity,\n",
        "            productioncompanymap.production_company_id,\n",
        "            productioncompanies.production_company_name\n",
        "    from  movies\n",
        "    join  productioncompanymap\n",
        "    on    movies.movie_id = productioncompanymap.movie_id\n",
        "    join  productioncompanies\n",
        "    on    productioncompanies.production_company_id =  productioncompanymap.production_company_id\n",
        "    group by production_company_name\n",
        "    order by avg_popularity  desc\n",
        "    limit 3 ;\n",
        "\n",
        ""
      ],
      "metadata": {
        "colab": {
          "base_uri": "https://localhost:8080/",
          "height": 137
        },
        "id": "xhiwuGT7KjC5",
        "outputId": "38f6c291-98e4-4a68-dec9-c3bb8f69753d"
      },
      "execution_count": 20,
      "outputs": [
        {
          "output_type": "stream",
          "name": "stdout",
          "text": [
            " * sqlite:///TMDB-a-4006.db\n",
            "Done.\n"
          ]
        },
        {
          "output_type": "execute_result",
          "data": {
            "text/plain": [
              "[(293660, 514.569956, 11307, \"The Donners' Company\"),\n",
              " (118340, 481.098624, 54850, 'Bulletproof Cupid'),\n",
              " (246655, 326.92099900000005, 78091, 'Kinberg Genre')]"
            ],
            "text/html": [
              "<table>\n",
              "    <tr>\n",
              "        <th>movie_id</th>\n",
              "        <th>avg_popularity</th>\n",
              "        <th>production_company_id</th>\n",
              "        <th>production_company_name</th>\n",
              "    </tr>\n",
              "    <tr>\n",
              "        <td>293660</td>\n",
              "        <td>514.569956</td>\n",
              "        <td>11307</td>\n",
              "        <td>The Donners&#x27; Company</td>\n",
              "    </tr>\n",
              "    <tr>\n",
              "        <td>118340</td>\n",
              "        <td>481.098624</td>\n",
              "        <td>54850</td>\n",
              "        <td>Bulletproof Cupid</td>\n",
              "    </tr>\n",
              "    <tr>\n",
              "        <td>246655</td>\n",
              "        <td>326.92099900000005</td>\n",
              "        <td>78091</td>\n",
              "        <td>Kinberg Genre</td>\n",
              "    </tr>\n",
              "</table>"
            ]
          },
          "metadata": {},
          "execution_count": 20
        }
      ]
    },
    {
      "cell_type": "markdown",
      "source": [
        "The answer is : **The Donners' Company > Bulletproof Cupid > Kinberg Genre**"
      ],
      "metadata": {
        "id": "ROak8c_pLUnC"
      }
    },
    {
      "cell_type": "markdown",
      "source": [
        "### Question 10\n",
        "\n",
        "How many female actors (i.e. gender = 1) have a name that starts with the letter \"N\"?\n"
      ],
      "metadata": {
        "id": "X76QpZi6LnkV"
      }
    },
    {
      "cell_type": "code",
      "source": [
        "%%sql\n",
        "     select count(actor_name) as female_with_N\n",
        "     from actors\n",
        "        where gender = 1\n",
        "        and actor_name like 'N%';"
      ],
      "metadata": {
        "colab": {
          "base_uri": "https://localhost:8080/"
        },
        "id": "VKvEQzMlK8Nf",
        "outputId": "8547d59a-90d9-4fdc-f47e-1ae7e7f1437a"
      },
      "execution_count": 24,
      "outputs": [
        {
          "output_type": "stream",
          "name": "stdout",
          "text": [
            " * sqlite:///TMDB-a-4006.db\n",
            "(sqlite3.OperationalError) no such table: actors\n",
            "[SQL: select count(actor_name) as female_with_N\n",
            "     from actors\n",
            "        where gender = 1 \n",
            "        and actor_name like 'N%';]\n",
            "(Background on this error at: https://sqlalche.me/e/20/e3q8)\n"
          ]
        }
      ]
    },
    {
      "cell_type": "markdown",
      "source": [
        "The answer is : **355**"
      ],
      "metadata": {
        "id": "8UnP1jK3Lv2e"
      }
    },
    {
      "cell_type": "markdown",
      "source": [
        "### Question 11\n",
        "\n",
        "Which genre has, on average, the lowest movie popularity score?\n"
      ],
      "metadata": {
        "id": "zCxd2H3b1E3o"
      }
    },
    {
      "cell_type": "code",
      "source": [
        "%%sql\n",
        "     select avg(movies.popularity) as avg_popularity,\n",
        "            movies.movie_id,\n",
        "            genremap.genre_id,\n",
        "            genres.genre_name\n",
        "    from movies\n",
        "    join genremap\n",
        "    on   movies.movie_id = genremap.movie_id\n",
        "    join genres\n",
        "    on   genremap.genre_id = genres.genre_id\n",
        "    group by genres.genre_name\n",
        "    order by avg_popularity asc ;"
      ],
      "metadata": {
        "colab": {
          "base_uri": "https://localhost:8080/",
          "height": 493
        },
        "id": "8M02nwdcLu1G",
        "outputId": "80b2cb0f-e8b6-4835-c8c6-94c0125b3563"
      },
      "execution_count": 8,
      "outputs": [
        {
          "output_type": "stream",
          "name": "stdout",
          "text": [
            " * sqlite:///TMDB-a-4006.db\n",
            "Done.\n"
          ]
        },
        {
          "output_type": "execute_result",
          "data": {
            "text/plain": [
              "[(0.686786794117647, 7509, 10769, 'Foreign'),\n",
              " (3.945723809090908, 291, 99, 'Documentary'),\n",
              " (6.389414749999999, 10947, 10770, 'TV Movie'),\n",
              " (13.101512475675676, 16, 10402, 'Music'),\n",
              " (15.962426457494416, 13, 10749, 'Romance'),\n",
              " (17.444838720812175, 79, 36, 'History'),\n",
              " (17.764853371789304, 13, 18, 'Drama'),\n",
              " (18.221000988966285, 5, 35, 'Comedy'),\n",
              " (18.23627854878048, 33, 37, 'Western'),\n",
              " (18.295915104046244, 170, 27, 'Horror'),\n",
              " (22.85327434051726, 5, 80, 'Crime'),\n",
              " (23.777288569444423, 25, 10752, 'War'),\n",
              " (24.460076525117703, 18, 53, 'Thriller'),\n",
              " (24.58682736494254, 62, 9648, 'Mystery'),\n",
              " (27.832848912280713, 12, 10751, 'Family'),\n",
              " (30.94038215337952, 11, 28, 'Action'),\n",
              " (36.38704340094338, 18, 14, 'Fantasy'),\n",
              " (36.45180587102805, 11, 878, 'Science Fiction'),\n",
              " (38.81343931196578, 12, 16, 'Animation'),\n",
              " (39.26804199113923, 11, 12, 'Adventure')]"
            ],
            "text/html": [
              "<table>\n",
              "    <tr>\n",
              "        <th>avg_popularity</th>\n",
              "        <th>movie_id</th>\n",
              "        <th>genre_id</th>\n",
              "        <th>genre_name</th>\n",
              "    </tr>\n",
              "    <tr>\n",
              "        <td>0.686786794117647</td>\n",
              "        <td>7509</td>\n",
              "        <td>10769</td>\n",
              "        <td>Foreign</td>\n",
              "    </tr>\n",
              "    <tr>\n",
              "        <td>3.945723809090908</td>\n",
              "        <td>291</td>\n",
              "        <td>99</td>\n",
              "        <td>Documentary</td>\n",
              "    </tr>\n",
              "    <tr>\n",
              "        <td>6.389414749999999</td>\n",
              "        <td>10947</td>\n",
              "        <td>10770</td>\n",
              "        <td>TV Movie</td>\n",
              "    </tr>\n",
              "    <tr>\n",
              "        <td>13.101512475675676</td>\n",
              "        <td>16</td>\n",
              "        <td>10402</td>\n",
              "        <td>Music</td>\n",
              "    </tr>\n",
              "    <tr>\n",
              "        <td>15.962426457494416</td>\n",
              "        <td>13</td>\n",
              "        <td>10749</td>\n",
              "        <td>Romance</td>\n",
              "    </tr>\n",
              "    <tr>\n",
              "        <td>17.444838720812175</td>\n",
              "        <td>79</td>\n",
              "        <td>36</td>\n",
              "        <td>History</td>\n",
              "    </tr>\n",
              "    <tr>\n",
              "        <td>17.764853371789304</td>\n",
              "        <td>13</td>\n",
              "        <td>18</td>\n",
              "        <td>Drama</td>\n",
              "    </tr>\n",
              "    <tr>\n",
              "        <td>18.221000988966285</td>\n",
              "        <td>5</td>\n",
              "        <td>35</td>\n",
              "        <td>Comedy</td>\n",
              "    </tr>\n",
              "    <tr>\n",
              "        <td>18.23627854878048</td>\n",
              "        <td>33</td>\n",
              "        <td>37</td>\n",
              "        <td>Western</td>\n",
              "    </tr>\n",
              "    <tr>\n",
              "        <td>18.295915104046244</td>\n",
              "        <td>170</td>\n",
              "        <td>27</td>\n",
              "        <td>Horror</td>\n",
              "    </tr>\n",
              "    <tr>\n",
              "        <td>22.85327434051726</td>\n",
              "        <td>5</td>\n",
              "        <td>80</td>\n",
              "        <td>Crime</td>\n",
              "    </tr>\n",
              "    <tr>\n",
              "        <td>23.777288569444423</td>\n",
              "        <td>25</td>\n",
              "        <td>10752</td>\n",
              "        <td>War</td>\n",
              "    </tr>\n",
              "    <tr>\n",
              "        <td>24.460076525117703</td>\n",
              "        <td>18</td>\n",
              "        <td>53</td>\n",
              "        <td>Thriller</td>\n",
              "    </tr>\n",
              "    <tr>\n",
              "        <td>24.58682736494254</td>\n",
              "        <td>62</td>\n",
              "        <td>9648</td>\n",
              "        <td>Mystery</td>\n",
              "    </tr>\n",
              "    <tr>\n",
              "        <td>27.832848912280713</td>\n",
              "        <td>12</td>\n",
              "        <td>10751</td>\n",
              "        <td>Family</td>\n",
              "    </tr>\n",
              "    <tr>\n",
              "        <td>30.94038215337952</td>\n",
              "        <td>11</td>\n",
              "        <td>28</td>\n",
              "        <td>Action</td>\n",
              "    </tr>\n",
              "    <tr>\n",
              "        <td>36.38704340094338</td>\n",
              "        <td>18</td>\n",
              "        <td>14</td>\n",
              "        <td>Fantasy</td>\n",
              "    </tr>\n",
              "    <tr>\n",
              "        <td>36.45180587102805</td>\n",
              "        <td>11</td>\n",
              "        <td>878</td>\n",
              "        <td>Science Fiction</td>\n",
              "    </tr>\n",
              "    <tr>\n",
              "        <td>38.81343931196578</td>\n",
              "        <td>12</td>\n",
              "        <td>16</td>\n",
              "        <td>Animation</td>\n",
              "    </tr>\n",
              "    <tr>\n",
              "        <td>39.26804199113923</td>\n",
              "        <td>11</td>\n",
              "        <td>12</td>\n",
              "        <td>Adventure</td>\n",
              "    </tr>\n",
              "</table>"
            ]
          },
          "metadata": {},
          "execution_count": 8
        }
      ]
    },
    {
      "cell_type": "markdown",
      "source": [
        "The answer is : **Foreign**"
      ],
      "metadata": {
        "id": "HDDj5RgxCB4s"
      }
    },
    {
      "cell_type": "markdown",
      "source": [
        "### Question 12\n",
        "\n",
        "Which award category has the highest number of actor nominations (actors can be male or female)? (Hint: `Oscars.name` contains both actors' names and film names.)\n"
      ],
      "metadata": {
        "id": "sN4MnCVRCIy3"
      }
    },
    {
      "cell_type": "code",
      "source": [
        "%%sql\n",
        "SELECT oscars.award, COUNT(oscars.name) AS nominations\n",
        "FROM oscars\n",
        "JOIN actors ON oscars.name = actors.actor_name\n",
        "WHERE oscars.winner IS NOT NULL\n",
        "GROUP BY oscars.award\n",
        "ORDER BY nominations DESC\n",
        "LIMIT 10;\n"
      ],
      "metadata": {
        "colab": {
          "base_uri": "https://localhost:8080/",
          "height": 284
        },
        "id": "2jhN-oep1KsL",
        "outputId": "9ada20b0-d266-4a10-8344-fc4cd3010127"
      },
      "execution_count": 9,
      "outputs": [
        {
          "output_type": "stream",
          "name": "stdout",
          "text": [
            " * sqlite:///TMDB-a-4006.db\n",
            "Done.\n"
          ]
        },
        {
          "output_type": "execute_result",
          "data": {
            "text/plain": [
              "[('Actor in a Supporting Role', 74),\n",
              " ('Actress in a Supporting Role', 71),\n",
              " ('Actor', 41),\n",
              " ('Actor in a Leading Role', 39),\n",
              " ('Actress in a Leading Role', 38),\n",
              " ('Honorary Award', 35),\n",
              " ('Actress', 32),\n",
              " ('Jean Hersholt Humanitarian Award', 15),\n",
              " ('Special Award', 14),\n",
              " ('Irving G. Thalberg Memorial Award', 12)]"
            ],
            "text/html": [
              "<table>\n",
              "    <tr>\n",
              "        <th>award</th>\n",
              "        <th>nominations</th>\n",
              "    </tr>\n",
              "    <tr>\n",
              "        <td>Actor in a Supporting Role</td>\n",
              "        <td>74</td>\n",
              "    </tr>\n",
              "    <tr>\n",
              "        <td>Actress in a Supporting Role</td>\n",
              "        <td>71</td>\n",
              "    </tr>\n",
              "    <tr>\n",
              "        <td>Actor</td>\n",
              "        <td>41</td>\n",
              "    </tr>\n",
              "    <tr>\n",
              "        <td>Actor in a Leading Role</td>\n",
              "        <td>39</td>\n",
              "    </tr>\n",
              "    <tr>\n",
              "        <td>Actress in a Leading Role</td>\n",
              "        <td>38</td>\n",
              "    </tr>\n",
              "    <tr>\n",
              "        <td>Honorary Award</td>\n",
              "        <td>35</td>\n",
              "    </tr>\n",
              "    <tr>\n",
              "        <td>Actress</td>\n",
              "        <td>32</td>\n",
              "    </tr>\n",
              "    <tr>\n",
              "        <td>Jean Hersholt Humanitarian Award</td>\n",
              "        <td>15</td>\n",
              "    </tr>\n",
              "    <tr>\n",
              "        <td>Special Award</td>\n",
              "        <td>14</td>\n",
              "    </tr>\n",
              "    <tr>\n",
              "        <td>Irving G. Thalberg Memorial Award</td>\n",
              "        <td>12</td>\n",
              "    </tr>\n",
              "</table>"
            ]
          },
          "metadata": {},
          "execution_count": 9
        }
      ]
    },
    {
      "cell_type": "markdown",
      "source": [
        "The answer is : **Actor in a Supporting Role**"
      ],
      "metadata": {
        "id": "oWy--7iECRax"
      }
    }
  ]
}