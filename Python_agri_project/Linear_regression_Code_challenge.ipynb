{
 "cells": [
  {
   "cell_type": "markdown",
   "id": "f662d169",
   "metadata": {},
   "source": [
    "## Integrated Project: Understanding the yield\n",
    "© ExploreAI Academy"
   ]
  },
  {
   "cell_type": "markdown",
   "id": "26af890c",
   "metadata": {},
   "source": [
    "In this coding challenge, we will apply all of the skills we learned in regression."
   ]
  },
  {
   "cell_type": "markdown",
   "id": "8944ccbc",
   "metadata": {},
   "source": [
    "# Introduction to Simple Linear Regression"
   ]
  },
  {
   "cell_type": "markdown",
   "id": "cf2e633f",
   "metadata": {},
   "source": [
    "Simple linear regression is a fundamental statistical method used to quantify the relationship between two variables. It allows us to predict an outcome (dependent variable) based on the value of one predictor (independent variable). In this challenge, we will apply simple linear regression to understand how different environmental factors affect the standardised yield of crops.\n",
    "\n",
    "Our insights will not only help local farmers maximise their harvests but also contribute to the sustainable agriculture practices in Maji Ndogo.\n",
    "\n"
   ]
  },
  {
   "cell_type": "markdown",
   "id": "0837de59",
   "metadata": {},
   "source": [
    "# Initial data exploration"
   ]
  },
  {
   "cell_type": "markdown",
   "id": "8da2b362",
   "metadata": {},
   "source": [
    "Before we sow the seeds of our regression model, we need to get to know our soil – the dataset. This dataset was developed through extensive agricultural surveys conducted at farms across Maji Ndogo. It contains various factors that might influence a farm's crop yield, from the elevation of the fields to the average temperature they bask in.\n",
    "\n",
    "Spend some time looking at the data dictionary and start thinking about what could be influencing our crop yield."
   ]
  },
  {
   "cell_type": "markdown",
   "id": "147be850",
   "metadata": {},
   "source": [
    "# Data dictionary"
   ]
  },
  {
   "cell_type": "markdown",
   "id": "bfe8e55e",
   "metadata": {},
   "source": [
    "**1. Geographic features**\n",
    "\n",
    "- **Field_ID:** A unique identifier for each field (BigInt).\n",
    " \n",
    "- **Elevation:** The elevation of the field above sea level in metres (Float).\n",
    "\n",
    "- **Latitude:** Geographical latitude of the field in degrees (Float). (DUMMY VARIABLE- the simulation might have created a relationship)\n",
    "\n",
    "- **Longitude:** Geographical longitude of the field in degrees (Float). (DUMMY VARIABLE- the simulation might have created a relationship)\n",
    "\n",
    "- **Location:** Province the field is in (Text).\n",
    "\n",
    "- **Slope:** The slope of the land in the field (Float).\n",
    "\n",
    "**2. Weather features**\n",
    "\n",
    "- **Rainfall:** Amount of rainfall in the area in mm (Float).\n",
    "\n",
    "- **Min_temperature_C:** Average minimum temperature recorded in Celsius (Float).(DUMMY VARIABLE)\n",
    "\n",
    "- **Max_temperature_C:** Average maximum temperature recorded in Celsius (Float).(DUMMY VARIABLE)\n",
    "\n",
    "- **Ave_temps:** Average temperature in Celcius (Float).\n",
    "\n",
    "**3. Soil and crop features**\n",
    "\n",
    "- **Soil_fertility:** A measure of soil fertility where 0 is infertile soil, and 1 is very fertile soil (Float).\n",
    "\n",
    "- **Soil_type:** Type of soil present in the field (Text).\n",
    "\n",
    "- **pH:** pH level of the soil, which is a measure of how acidic/basic the soil is (Float).\n",
    "\n",
    "**4. Farm management features**\n",
    "\n",
    "- **Field_ID:** Corresponding field identifier (BigInt).\n",
    "\n",
    "- **Pollution_level:** Level of pollution in the area where 0 is unpolluted and 1 is very polluted (Float).\n",
    "\n",
    "- **Plot_size:** Size of the plot in the field (Ha) (Float). (DUMMY VARIABLE)\n",
    "\n",
    "- **Chosen_crop:** Type of crop chosen for cultivation (Text).\n",
    "\n",
    "- **Annual_yield:** Annual yield from the field (Float). This is the total output of the field. The field size and type of crop will affect the Annual Yield (DUMMY VARIABLE - Removed)\n",
    "\n",
    "<br>\n",
    "\n",
    "**5. Target variable**\n",
    "- **Standard_yield:** Standardised yield expected from the field, normalised per crop (Float). This is independent of field size, or crop type. Multiplying this number by the field size, and average crop yield will give the Annual_Yield.\n",
    "\n",
    "---"
   ]
  },
  {
   "cell_type": "markdown",
   "id": "ba9084f8",
   "metadata": {},
   "source": [
    "Our first task is to load this dataset and peek at what sort of values each column contains. This initial glimpse will help us understand the type of data we will be working with. As you explore the data, consider the following questions:\n",
    "\n",
    "- How many different fields are we examining?\n",
    "- Are there any features that you think may be having an impact on the crop yield produced by different farms?\n",
    "\n",
    "**Your task**\n",
    "1. Load the dataset into a pandas DataFrame.\n",
    "2. Display the first five rows to understand what you're working with.\n",
    "3. Check the shape of the DataFrame to see how extensive our data is."
   ]
  },
  {
   "cell_type": "code",
   "execution_count": 1,
   "id": "77d33478",
   "metadata": {},
   "outputs": [
    {
     "name": "stdout",
     "output_type": "stream",
     "text": [
      "geographic_features\n",
      "weather_features\n",
      "soil_and_crop_features\n",
      "farm_management_features\n"
     ]
    }
   ],
   "source": [
    "import sqlite3\n",
    "\n",
    "file_path = \"C:/Users/20106/Downloads/Python_agri_project/Maji_Ndogo_farm_survey_small.db\"\n",
    "conn = sqlite3.connect(file_path)\n",
    "\n",
    "cursor = conn.cursor()\n",
    "cursor.execute(\"SELECT name FROM sqlite_master WHERE type='table';\")  # Get table names\n",
    "tables = cursor.fetchall()\n",
    "for table in tables:\n",
    "    print(table[0])  # Print each table name\n",
    "\n",
    "conn.close()"
   ]
  },
  {
   "cell_type": "code",
   "execution_count": 20,
   "id": "2ffb2368-d02f-417f-9282-5152037f7b3c",
   "metadata": {},
   "outputs": [
    {
     "name": "stdout",
     "output_type": "stream",
     "text": [
      "\n",
      "geographic_features:\n",
      "- Field_ID\n",
      "- Elevation\n",
      "- Latitude\n",
      "- Longitude\n",
      "- Location\n",
      "- Slope\n",
      "\n",
      "weather_features:\n",
      "- Field_ID\n",
      "- Rainfall\n",
      "- Min_temperature_C\n",
      "- Max_temperature_C\n",
      "- Ave_temps\n",
      "\n",
      "soil_and_crop_features:\n",
      "- Field_ID\n",
      "- Soil_fertility\n",
      "- Soil_type\n",
      "- pH\n",
      "\n",
      "farm_management_features:\n",
      "- Field_ID\n",
      "- Pollution_level\n",
      "- Plot_size\n",
      "- Crop_type\n",
      "- Annual_yield\n",
      "- Standard_yield\n"
     ]
    }
   ],
   "source": [
    "import sqlite3\n",
    "\n",
    "def print_table_columns(db_path):\n",
    "    with sqlite3.connect(db_path) as conn:\n",
    "        c = conn.cursor()\n",
    "        c.execute(\"SELECT name FROM sqlite_master WHERE type='table'\")\n",
    "        for table in c.fetchall():\n",
    "            print(f\"\\n{table[0]}:\")\n",
    "            c.execute(f\"PRAGMA table_info({table[0]})\")\n",
    "            for col in c.fetchall():\n",
    "                print(f\"- {col[1]}\")\n",
    "\n",
    "print_table_columns('C:/Users/20106/Downloads/Python_agri_project/Maji_Ndogo_farm_survey_small.db')"
   ]
  },
  {
   "cell_type": "code",
   "execution_count": 35,
   "id": "983cae03-841a-4c77-a4f5-a3014b9b7c92",
   "metadata": {},
   "outputs": [
    {
     "name": "stdout",
     "output_type": "stream",
     "text": [
      "\n",
      "First 5 rows of geographic_features:\n",
      "   Field_ID  Elevation  Latitude  Longitude        Location      Slope\n",
      "0     40734  786.05580 -7.389911  -7.556202    Rural_Akatsi  14.795113\n",
      "1     30629  674.33410 -7.736849  -1.051539    Rural_Sokoto  11.374611\n",
      "2     39924  826.53390 -9.926616   0.115156    Rural_Sokoto  11.339692\n",
      "3      5754  574.94617 -2.420131  -6.592215  Rural_Kilimani   7.109855\n",
      "4     14146  886.35300 -3.055434  -7.952609  Rural_Kilimani  55.007656\n",
      "\n",
      "First 5 rows of weather_features:\n",
      "   Field_ID  Rainfall  Min_temperature_C  Max_temperature_C  Ave_temps\n",
      "0     40734    1125.2               -3.1               33.1      15.00\n",
      "1     30629    1450.7               -3.9               30.6      13.35\n",
      "2     39924    2208.9               -1.8               28.4      13.30\n",
      "3      5754     328.8               -5.8               32.2      13.20\n",
      "4     14146     785.2               -2.5               31.0      14.25\n",
      "\n",
      "First 5 rows of soil_and_crop_features:\n",
      "   Field_ID  Soil_fertility Soil_type        pH\n",
      "0     40734            0.62     Sandy  6.169393\n",
      "1     30629            0.64  Volcanic  5.676648\n",
      "2     39924            0.69  Volcanic  5.331993\n",
      "3      5754            0.54     Loamy  5.328150\n",
      "4     14146            0.72     Sandy  5.721234\n",
      "\n",
      "First 5 rows of farm_management_features:\n",
      "   Field_ID  Pollution_level  Plot_size  Annual_yield Crop_type  \\\n",
      "0     40734         0.085267        1.3      0.751354   cassava   \n",
      "1     30629         0.399684        2.2      1.069865   cassava   \n",
      "2     39924         0.358029        3.4      2.208801       tea   \n",
      "3      5754         0.286687        2.4      1.277635   cassava   \n",
      "4     14146         0.043190        1.5      0.832614     wheat   \n",
      "\n",
      "   Standard_yield  \n",
      "0        0.577964  \n",
      "1        0.486302  \n",
      "2        0.649647  \n",
      "3        0.532348  \n",
      "4        0.555076  \n"
     ]
    }
   ],
   "source": [
    "import pandas as pd\n",
    "import sqlite3\n",
    "\n",
    "file_path = 'C:/Users/20106/Downloads/Python_agri_project/Maji_Ndogo_farm_survey_small.db'\n",
    "table_names = ['geographic_features', 'weather_features', 'soil_and_crop_features', 'farm_management_features']\n",
    "\n",
    "def print_first_5_rows(table_name):\n",
    "    \"\"\"Prints the first 5 rows of the specified table.\"\"\"\n",
    "    try:\n",
    "        with sqlite3.connect(file_path) as conn:\n",
    "            query = f\"SELECT * FROM {table_name} LIMIT 5\"\n",
    "            df = pd.read_sql_query(query, conn)\n",
    "\n",
    "        print(f\"\\nFirst 5 rows of {table_name}:\")\n",
    "        print(df)\n",
    "\n",
    "    except sqlite3.Error as e:\n",
    "        print(f\"An error occurred: {e}\")\n",
    "\n",
    "for table in table_names:\n",
    "    print_first_5_rows(table)\n",
    "    "
   ]
  },
  {
   "cell_type": "code",
   "execution_count": 28,
   "id": "593fc7a3-ea6e-4d2b-82ae-7e3345829388",
   "metadata": {},
   "outputs": [
    {
     "name": "stdout",
     "output_type": "stream",
     "text": [
      "Tables in the database:\n",
      "geographic_features\n",
      "weather_features\n",
      "soil_and_crop_features\n",
      "farm_management_features\n"
     ]
    }
   ],
   "source": [
    "import pandas as pd\n",
    "import sqlite3\n",
    "\n",
    "\n",
    "file_path = 'C:/Users/20106/Downloads/Python_agri_project/Maji_Ndogo_farm_survey_small.db'\n",
    "conn = sqlite3.connect(file_path)\n",
    "\n",
    "\n",
    "cursor = conn.cursor()\n",
    "cursor.execute(\"SELECT name FROM sqlite_master WHERE type='table';\")\n",
    "tables = cursor.fetchall()\n",
    "print(\"Tables in the database:\")  # Important label\n",
    "for table in tables:\n",
    "    print(table[0])  # Print each table name\n",
    "conn.close()  # Close connection after printing tables"
   ]
  },
  {
   "cell_type": "code",
   "execution_count": 29,
   "id": "ed6c8f50-e411-4241-82a9-b6483f636dd4",
   "metadata": {},
   "outputs": [
    {
     "name": "stdout",
     "output_type": "stream",
     "text": [
      "\n",
      "Columns in the DataFrame:\n",
      "Index(['Field_ID', 'Pollution_level', 'Plot_size', 'Crop_type', 'Annual_yield',\n",
      "       'Standard_yield'],\n",
      "      dtype='object')\n"
     ]
    }
   ],
   "source": [
    "# 3. Choose the correct table name from the printed list and replace below.\n",
    "chosen_table_name = 'farm_management_features'  \n",
    "\n",
    "# 4. Reconnect (necessary after closing above)\n",
    "conn = sqlite3.connect(file_path)\n",
    "\n",
    "\n",
    "# 5. Read data from the chosen table\n",
    "query = f\"SELECT * FROM {chosen_table_name}\"\n",
    "MD_agric_df = pd.read_sql_query(query, conn)\n",
    "\n",
    "# 6. Close the database connection (important!)\n",
    "conn.close()\n",
    "# 7. Print column names for verification (CRITICAL)\n",
    "print(\"\\nColumns in the DataFrame:\")  # Important label\n",
    "print(MD_agric_df.columns)\n"
   ]
  },
  {
   "cell_type": "code",
   "execution_count": 34,
   "id": "a1725e4a-c025-4b82-aa3a-64fdebb65600",
   "metadata": {},
   "outputs": [
    {
     "name": "stdout",
     "output_type": "stream",
     "text": [
      "column 'Unnamed: 0' does not exist\n",
      "Database columns modified.\n"
     ]
    }
   ],
   "source": [
    "import sqlite3\n",
    "\n",
    "file_path = 'C:/Users/20106/Downloads/Python_agri_project/Maji_Ndogo_farm_survey_small.db'\n",
    "chosen_table_name = 'farm_management_features'\n",
    "\n",
    "try:\n",
    "    conn = sqlite3.connect(file_path)\n",
    "    cursor = conn.cursor()\n",
    "\n",
    "    # Rename columns (example)\n",
    "    cursor.execute(f\"ALTER TABLE {chosen_table_name} RENAME COLUMN Annual_yield TO Crop_type_Temp;\")\n",
    "    cursor.execute(f\"ALTER TABLE {chosen_table_name} RENAME COLUMN Crop_type TO Annual_yield;\")\n",
    "    cursor.execute(f\"ALTER TABLE {chosen_table_name} RENAME COLUMN Crop_type_Temp TO Crop_type;\")\n",
    "\n",
    "    # Drop column (example)\n",
    "    try:\n",
    "        cursor.execute(f\"ALTER TABLE {chosen_table_name} DROP COLUMN 'Unnamed: 0';\")\n",
    "    except sqlite3.OperationalError:\n",
    "        print(\"column 'Unnamed: 0' does not exist\")\n",
    "\n",
    "    conn.commit()  # Save the changes\n",
    "    print(\"Database columns modified.\")\n",
    "\n",
    "except sqlite3.Error as e:\n",
    "    print(f\"An error occurred: {e}\")\n",
    "finally:\n",
    "    if conn:\n",
    "        conn.close()"
   ]
  },
  {
   "cell_type": "code",
   "execution_count": 36,
   "id": "68c51955",
   "metadata": {},
   "outputs": [
    {
     "name": "stdout",
     "output_type": "stream",
     "text": [
      "Warning: No elevation column ('Elevation', 'elevation', 'Elev', 'elev') found.\n",
      "\n",
      "First few rows of the DataFrame:\n",
      "   Field_ID  Pollution_level  Plot_size  Annual_yield Crop_type  \\\n",
      "0     40734         0.085267        1.3      0.751354   cassava   \n",
      "1     30629         0.399684        2.2      1.069865   cassava   \n",
      "2     39924         0.358029        3.4      2.208801       tea   \n",
      "3      5754         0.286687        2.4      1.277635   cassava   \n",
      "4     14146         0.043190        1.5      0.832614     wheat   \n",
      "\n",
      "   Standard_yield  \n",
      "0        0.577964  \n",
      "1        0.486302  \n",
      "2        0.649647  \n",
      "3        0.532348  \n",
      "4        0.555076  \n",
      "\n",
      "DataFrame Info:\n",
      "<class 'pandas.core.frame.DataFrame'>\n",
      "RangeIndex: 5654 entries, 0 to 5653\n",
      "Data columns (total 6 columns):\n",
      " #   Column           Non-Null Count  Dtype  \n",
      "---  ------           --------------  -----  \n",
      " 0   Field_ID         5654 non-null   int64  \n",
      " 1   Pollution_level  5654 non-null   float64\n",
      " 2   Plot_size        5654 non-null   float64\n",
      " 3   Annual_yield     5654 non-null   float64\n",
      " 4   Crop_type        5654 non-null   object \n",
      " 5   Standard_yield   5654 non-null   float64\n",
      "dtypes: float64(4), int64(1), object(1)\n",
      "memory usage: 265.2+ KB\n",
      "None\n",
      "\n",
      "DataFrame Description:\n",
      "           Field_ID  Pollution_level    Plot_size  Annual_yield  \\\n",
      "count   5654.000000     5.654000e+03  5654.000000   5654.000000   \n",
      "mean   22632.733817     2.231923e-01     3.923965      2.090399   \n",
      "std    13133.762515     2.237976e-01     3.463855      1.935000   \n",
      "min        1.000000     1.013245e-10     0.500000      0.172226   \n",
      "25%    11463.250000     5.133734e-02     1.500000      0.767032   \n",
      "50%    22615.500000     1.647056e-01     2.800000      1.446648   \n",
      "75%    34077.750000     3.058885e-01     4.700000      2.530662   \n",
      "max    45153.000000     9.954134e-01    15.000000     12.695224   \n",
      "\n",
      "       Standard_yield  \n",
      "count     5654.000000  \n",
      "mean         0.534405  \n",
      "std          0.111806  \n",
      "min          0.170717  \n",
      "25%          0.460386  \n",
      "50%          0.528836  \n",
      "75%          0.599942  \n",
      "max          0.898037  \n"
     ]
    }
   ],
   "source": [
    "\n",
    "\n",
    "# 9. Corrected Elevation handling (more robust)\n",
    "elevation_column_found = False  # Flag to track if any variation is found\n",
    "\n",
    "for col_name in ['Elevation', 'elevation', 'Elev', 'elev']:  # Check common variations\n",
    "    if col_name in MD_agric_df.columns:\n",
    "        MD_agric_df[col_name] = MD_agric_df[col_name].abs()\n",
    "        elevation_column_found = True\n",
    "        print(f\"Elevation column found and processed: '{col_name}'\")\n",
    "        break  # Stop the loop once a column is found\n",
    "\n",
    "if not elevation_column_found:\n",
    "    print(\"Warning: No elevation column ('Elevation', 'elevation', 'Elev', 'elev') found.\")\n",
    "\n",
    "\n",
    "# 10. Crop type correction\n",
    "def correct_crop_type(crop):\n",
    "    if isinstance(crop, str):\n",
    "        crop = crop.strip()\n",
    "        corrections = {\n",
    "            'cassaval': 'cassava',\n",
    "            'wheatn': 'wheat',\n",
    "            'teaa': 'tea'\n",
    "    }\n",
    "    return corrections.get(crop, crop)\n",
    "    \n",
    "\n",
    "MD_agric_df['Crop_type'] = MD_agric_df['Crop_type'].apply(correct_crop_type)\n",
    "\n",
    "dataset = MD_agric_df\n",
    "\n",
    "# 11. Print data for verification\n",
    "print(\"\\nFirst few rows of the DataFrame:\")\n",
    "print(dataset.head())\n",
    "print(\"\\nDataFrame Info:\")\n",
    "print(dataset.info())\n",
    "print(\"\\nDataFrame Description:\")\n",
    "print(dataset.describe())"
   ]
  },
  {
   "cell_type": "markdown",
   "id": "0324a485",
   "metadata": {},
   "source": [
    "# Analysis"
   ]
  },
  {
   "cell_type": "markdown",
   "id": "9a1fddb1",
   "metadata": {},
   "source": [
    "## Challenge 1: Visualising the relationship"
   ]
  },
  {
   "cell_type": "markdown",
   "id": "55b8dc1b",
   "metadata": {},
   "source": [
    "With our data ready and loaded, it's time to start exploring. \n",
    "\n",
    "Our goal is to determine whether any of the features in our dataset are influencing the `Standard_yield` of a farm. If we can figure out what these relationships are, then we can use them to start predicting what future yields will be, based on these features. \n",
    "\n",
    "For this analysis, we want to find whether any features have a linear relationship with `Standard_yield` so that we can fit a linear regression model to the data. This is important because if we try and fit a linear regression model to non-linear data, our predictions will not be very good.\n",
    "\n",
    "We have many features in our dataset that could potentially be having an impact on `Standard_yield`. To begin unraveling this mystery, let's start by looking at `Ave_temps`, the average temperature of the region, and its relationship to `Standard_yield`.\n",
    "\n",
    "Let's start with the basics: a scatter plot.\n"
   ]
  },
  {
   "cell_type": "markdown",
   "id": "3aa3a182",
   "metadata": {},
   "source": [
    "**Your task**\n",
    "Create a function named `temp_yield_correlation` that:\n",
    "1. Takes a DataFrame and the names of the average temperature column (`Ave_temps`) and the standard yield column (`Standard_yield`) as parameters.\n",
    "2. Generates a scatter plot to visualise the relationship between average temperature and standard yield.\n",
    "3. Calculates the Pearson correlation coefficient between these two variables to quantify their linear relationship.\n",
    "4. Returns the Pearson correlation coefficient.\n",
    "5. Reflect on the scatter plot. Does suggest a linear relationship, or is the story more complex?\n",
    "\n",
    "**Note:**\n",
    "- Use matplotlib for plotting the scatter plot.\n",
    "- Use scipy or numpy to calculate the Pearson correlation coefficient.\n",
    "- Ensure your function returns the Pearson correlation coefficient as a float."
   ]
  },
  {
   "cell_type": "code",
   "execution_count": 37,
   "id": "198072ff-92b5-41af-a5a4-a585a88d257a",
   "metadata": {},
   "outputs": [
    {
     "data": {
      "image/png": "[encoded data removed]",
      "text/plain": [
       "<Figure size 800x600 with 1 Axes>"
      ]
     },
     "metadata": {},
     "output_type": "display_data"
    },
    {
     "name": "stdout",
     "output_type": "stream",
     "text": [
      "Pearson correlation coefficient: 0.006785950289020189\n",
      "\n",
      "Reflection:\n",
      "The scatter plot will show the relationship between average temperature and standard yield.\n",
      "If the points form a linear pattern, it suggests a linear relationship.\n",
      "The Pearson correlation coefficient quantifies this linear relationship.\n",
      "A value close to 1 indicates a strong positive linear relationship,\n",
      "a value close to -1 indicates a strong negative linear relationship,\n",
      "and a value close to 0 indicates a weak or no linear relationship.\n",
      "Inspect the scatter plot and the correlation coefficient to determine the nature of the relationship.\n"
     ]
    }
   ],
   "source": [
    "import pandas as pd\n",
    "import sqlite3\n",
    "import matplotlib.pyplot as plt\n",
    "from scipy.stats import pearsonr\n",
    "\n",
    "def temp_yield_correlation(df, temp_col, yield_col):\n",
    "    \"\"\"\n",
    "    Generates a scatter plot and calculates the Pearson correlation coefficient\n",
    "    between average temperature and standard yield.\n",
    "\n",
    "    Args:\n",
    "        df (pd.DataFrame): The DataFrame containing the data.\n",
    "        temp_col (str): The name of the average temperature column.\n",
    "        yield_col (str): The name of the standard yield column.\n",
    "\n",
    "    Returns:\n",
    "        float: The Pearson correlation coefficient.\n",
    "    \"\"\"\n",
    "    try:\n",
    "        # Scatter plot\n",
    "        plt.figure(figsize=(8, 6))\n",
    "        plt.scatter(df[temp_col], df[yield_col])\n",
    "        plt.title(f\"Scatter Plot: {temp_col} vs. {yield_col}\")\n",
    "        plt.xlabel(temp_col)\n",
    "        plt.ylabel(yield_col)\n",
    "        plt.grid(True)\n",
    "        plt.show()\n",
    "\n",
    "        # Pearson correlation coefficient\n",
    "        correlation, _ = pearsonr(df[temp_col], df[yield_col])\n",
    "        print(f\"Pearson correlation coefficient: {correlation}\")\n",
    "        return correlation\n",
    "\n",
    "    except KeyError as e:\n",
    "        print(f\"Error: Column '{e.args[0]}' not found in the DataFrame.\")\n",
    "        return None\n",
    "    except Exception as e:\n",
    "        print(f\"An unexpected error occured: {e}\")\n",
    "        return None\n",
    "\n",
    "# Database connection and data retrieval\n",
    "file_path = 'C:/Users/20106/Downloads/Python_agri_project/Maji_Ndogo_farm_survey_small.db' # Replace with your database path\n",
    "conn = sqlite3.connect(file_path)\n",
    "\n",
    "# Join weather_features and farm_management_features\n",
    "query = \"\"\"\n",
    "SELECT wf.Ave_temps, fmf.Standard_yield\n",
    "FROM weather_features wf\n",
    "JOIN farm_management_features fmf ON wf.Field_ID = fmf.Field_ID\n",
    "\"\"\"\n",
    "joined_df = pd.read_sql_query(query, conn)\n",
    "conn.close()\n",
    "\n",
    "# Apply the temp_yield_correlation function\n",
    "correlation_coefficient = temp_yield_correlation(joined_df, 'Ave_temps', 'Standard_yield')\n",
    "\n",
    "# Reflection\n",
    "print(\"\\nReflection:\")\n",
    "print(\"The scatter plot will show the relationship between average temperature and standard yield.\")\n",
    "print(\"If the points form a linear pattern, it suggests a linear relationship.\")\n",
    "print(\"The Pearson correlation coefficient quantifies this linear relationship.\")\n",
    "print(\"A value close to 1 indicates a strong positive linear relationship,\")\n",
    "print(\"a value close to -1 indicates a strong negative linear relationship,\")\n",
    "print(\"and a value close to 0 indicates a weak or no linear relationship.\")\n",
    "print(\"Inspect the scatter plot and the correlation coefficient to determine the nature of the relationship.\")"
   ]
  },
  {
   "cell_type": "markdown",
   "id": "2ae64880",
   "metadata": {},
   "source": [
    "Expected output\n",
    "```\n",
    "Correlation: 0.006785950289020164\n",
    "```"
   ]
  },
  {
   "cell_type": "markdown",
   "id": "78795c87",
   "metadata": {},
   "source": [
    "What do you notice about the scatter plot? There seems to be a wide dispersion of data points, suggesting that there's no clear linear relationship. It's essential to visualise our data first; if the data doesn't follow a linear pattern, then a linear regression model may fail to accurately capture the underlying relationship."
   ]
  },
  {
   "cell_type": "code",
   "execution_count": 38,
   "id": "1092c531-d9a8-412d-abb7-755baa218aaa",
   "metadata": {},
   "outputs": [],
   "source": [
    "# there is a corr between them"
   ]
  },
  {
   "cell_type": "markdown",
   "id": "2372ccb9",
   "metadata": {},
   "source": [
    "## Challenge 2: A breath of fresh data: pollution as a predictor\n"
   ]
  },
  {
   "cell_type": "markdown",
   "id": "628c4cc1",
   "metadata": {},
   "source": [
    "It's time to shift our gaze from the warmth of the sun to the haze of pollution. Could the levels of pollution, a concern for farmers and environmentalists alike, be an indicator of our yields?\n",
    "\n",
    "Let's visualise the relationship between pollution and crop yields and build a simple linear regression model. \n",
    "\n",
    "**Your task**\n",
    "1. Create a function named pollution_yield_relationship that takes in a DataFrame and the names of the 'Pollution_level' and 'Standard_yield' columns.\n",
    "2. The function should generate a scatter plot to visualise the relationship and also fit a linear regression model.\n",
    "3. The function should return the slope and intercept of the fitted model as a tuple.\n",
    "4. Use the function to analyse the Pollution_level against Standard_yield."
   ]
  },
  {
   "cell_type": "markdown",
   "id": "788a7f56",
   "metadata": {},
   "source": [
    "Expected output:\n",
    "```\n",
    "Slope: -0.1427617720986604\n",
    "Intercept: 0.5662684415393379\n",
    "```"
   ]
  },
  {
   "cell_type": "code",
   "execution_count": 12,
   "id": "d789b00d",
   "metadata": {},
   "outputs": [
    {
     "name": "stderr",
     "output_type": "stream",
     "text": [
      "/Users/sarahblewett/anaconda3/envs/ExploreDS/lib/python3.11/site-packages/sklearn/utils/validation.py:757: FutureWarning: is_sparse is deprecated and will be removed in a future version. Check `isinstance(dtype, pd.SparseDtype)` instead.\n",
      "  if not hasattr(array, \"sparse\") and array.dtypes.apply(is_sparse).any():\n",
      "/Users/sarahblewett/anaconda3/envs/ExploreDS/lib/python3.11/site-packages/sklearn/utils/validation.py:595: FutureWarning: is_sparse is deprecated and will be removed in a future version. Check `isinstance(dtype, pd.SparseDtype)` instead.\n",
      "  if is_sparse(pd_dtype):\n",
      "/Users/sarahblewett/anaconda3/envs/ExploreDS/lib/python3.11/site-packages/sklearn/utils/validation.py:604: FutureWarning: is_sparse is deprecated and will be removed in a future version. Check `isinstance(dtype, pd.SparseDtype)` instead.\n",
      "  if is_sparse(pd_dtype) or not is_extension_array_dtype(pd_dtype):\n",
      "/Users/sarahblewett/anaconda3/envs/ExploreDS/lib/python3.11/site-packages/sklearn/utils/validation.py:757: FutureWarning: is_sparse is deprecated and will be removed in a future version. Check `isinstance(dtype, pd.SparseDtype)` instead.\n",
      "  if not hasattr(array, \"sparse\") and array.dtypes.apply(is_sparse).any():\n",
      "/Users/sarahblewett/anaconda3/envs/ExploreDS/lib/python3.11/site-packages/sklearn/utils/validation.py:595: FutureWarning: is_sparse is deprecated and will be removed in a future version. Check `isinstance(dtype, pd.SparseDtype)` instead.\n",
      "  if is_sparse(pd_dtype):\n",
      "/Users/sarahblewett/anaconda3/envs/ExploreDS/lib/python3.11/site-packages/sklearn/utils/validation.py:604: FutureWarning: is_sparse is deprecated and will be removed in a future version. Check `isinstance(dtype, pd.SparseDtype)` instead.\n",
      "  if is_sparse(pd_dtype) or not is_extension_array_dtype(pd_dtype):\n"
     ]
    },
    {
     "data": {
      "image/png": "[encoded data removed]",
      "text/plain": [
       "<Figure size 640x480 with 1 Axes>"
      ]
     },
     "metadata": {},
     "output_type": "display_data"
    },
    {
     "name": "stdout",
     "output_type": "stream",
     "text": [
      "Slope: -0.1427617720986604\n",
      "Intercept: 0.5662684415393379\n"
     ]
    }
   ],
   "source": [
    "# Model solution\n",
    "import matplotlib.pyplot as plt\n",
    "from sklearn.linear_model import LinearRegression\n",
    "import numpy as np\n",
    "\n",
    "### START FUNCTION\n",
    "def pollution_yield_relationship(df, pollution_col, yield_col):\n",
    "    X = df[[pollution_col]]\n",
    "    y = df[yield_col]\n",
    "    \n",
    "    model = LinearRegression().fit(X, y)\n",
    "    predictions = model.predict(X)\n",
    "    \n",
    "    plt.scatter(X, y, label='Data points')\n",
    "    plt.plot(X, predictions, color='red', label='Regression line')\n",
    "    plt.xlabel(pollution_col)\n",
    "    plt.ylabel(yield_col)\n",
    "    plt.legend()\n",
    "    plt.show()\n",
    "    \n",
    "    return (model.coef_[0], model.intercept_)\n",
    "### END FUNCTION\n",
    "\n",
    "slope_intercept = pollution_yield_relationship(dataset, 'Pollution_level', 'Standard_yield')\n",
    "print(\"Slope:\", slope_intercept[0])\n",
    "print(\"Intercept:\", slope_intercept[1])"
   ]
  },
  {
   "cell_type": "markdown",
   "id": "e9b1845f",
   "metadata": {},
   "source": [
    "Reflect on the difference between this plot and the previous one with temperature. Is the relationship between pollution and yield more linear?"
   ]
  },
  {
   "cell_type": "markdown",
   "id": "8e2d8de9",
   "metadata": {},
   "source": [
    "## Challenge 3: The haze clears: Evaluating pollution's predictive power"
   ]
  },
  {
   "cell_type": "markdown",
   "id": "8cc62613",
   "metadata": {},
   "source": [
    "When we look at how `Standard_yield` lines up with `Ave_temps` and `Pollution_level` visually, it appears that pollution level might have a more linear relationship with yield.  This means that we could potentially use a simple linear regression model to make predictions about the yield of a farm based on its pollution level. However, before we do this we need to assess the strength of the bridge we've built between `Pollution_level` and `Standard_yield`. Does it stand firm, supported by the pillars of statistical validation, or does it sway in the winds of variability?\n",
    "\n",
    "Let's assess our model's performance using R-squared, Mean Absolute Error (MAE), Mean Squared Error (MSE), and Root Mean Squared Error (RMSE).\n",
    "\n",
    "**Your task:**\n",
    "Create a function named evaluate_pollution_model that:\n",
    "- Takes a DataFrame as input.\n",
    "- Trains a simple linear regression model using Pollution_level as the predictor for the entire dataset.\n",
    "- Calculates and returns the R-squared, Mean Absolute Error (MAE), Mean Squared Error (MSE), and Root Mean Squared Error (RMSE) of the model's performance.\n",
    "\n",
    "**Note:**\n",
    "\n",
    "1. Use the LinearRegression class from sklearn.linear_model to train your model.\n",
    "2. Calculate the model's performance metrics using the entire dataset.\n",
    "3. Return the evaluation metrics as a tuple in the order: (R-squared, MAE, MSE, RMSE)."
   ]
  },
  {
   "cell_type": "markdown",
   "id": "6448a869",
   "metadata": {},
   "source": [
    "Input:"
   ]
  },
  {
   "cell_type": "code",
   "execution_count": null,
   "id": "4c214f59",
   "metadata": {},
   "outputs": [],
   "source": [
    "evaluation_metrics = evaluate_pollution_model(df)\n",
    "print(f\"Evaluation Metrics:\\nR-squared: {evaluation_metrics[0]}\\nMAE: {evaluation_metrics[1]}\\nMSE: {evaluation_metrics[2]}\\nRMSE: {evaluation_metrics[3]}\")"
   ]
  },
  {
   "cell_type": "code",
   "execution_count": 14,
   "id": "9b624e5e",
   "metadata": {},
   "outputs": [
    {
     "name": "stdout",
     "output_type": "stream",
     "text": [
      "Evaluation Metrics:\n",
      "R-squared: 0.08165932890115546\n",
      "MAE: 0.08554642090904992\n",
      "MSE: 0.011477732254034848\n",
      "RMSE: 0.10713417873878928\n"
     ]
    }
   ],
   "source": [
    "# Model solution\n",
    "from sklearn.linear_model import LinearRegression\n",
    "from sklearn.metrics import mean_squared_error, mean_absolute_error, r2_score\n",
    "import numpy as np\n",
    "\n",
    "### START FUNCTION\n",
    "def evaluate_pollution_model(df):\n",
    "    X = df[['Pollution_level']].values\n",
    "    y = df['Standard_yield'].values\n",
    "    \n",
    "    model = LinearRegression()\n",
    "    model.fit(X, y)\n",
    "    \n",
    "    predictions = model.predict(X)\n",
    "    \n",
    "    r2 = r2_score(y, predictions)\n",
    "    mae = mean_absolute_error(y, predictions)\n",
    "    mse = mean_squared_error(y, predictions)\n",
    "    rmse = np.sqrt(mse)\n",
    "    \n",
    "    return r2, mae, mse, rmse\n",
    "### END FUNCTION\n",
    "\n",
    "evaluation_metrics = evaluate_pollution_model(dataset)\n",
    "print(f\"Evaluation Metrics:\\nR-squared: {evaluation_metrics[0]}\\nMAE: {evaluation_metrics[1]}\\nMSE: {evaluation_metrics[2]}\\nRMSE: {evaluation_metrics[3]}\")\n",
    "\n"
   ]
  },
  {
   "cell_type": "markdown",
   "id": "802ce1a4",
   "metadata": {},
   "source": [
    "A tuple containing numerical values for R-squared, MAE, MSE, and RMSE:\n",
    "\n",
    "```python\n",
    "R-squared: 0.08165932890115546\n",
    "MAE: 0.08554642090904992\n",
    "MSE: 0.011477732254034848\n",
    "RMSE: 0.10713417873878928\n",
    "\n",
    "```"
   ]
  },
  {
   "cell_type": "markdown",
   "id": "71a686ae",
   "metadata": {},
   "source": [
    "What do these metrics tell us about our model's accuracy and reliability?"
   ]
  },
  {
   "cell_type": "markdown",
   "id": "977babed",
   "metadata": {},
   "source": [
    "## Challenge 4: The dividing line: Train-test split in action"
   ]
  },
  {
   "cell_type": "markdown",
   "id": "ebf9f6f7",
   "metadata": {},
   "source": [
    "As we delve deeper into the relationship between `Pollution_level` and `Standard_yield`, we must ensure our model is not merely memorising the data but truly understanding it. This brings us to the pivotal technique of Train-Test Split.\n",
    "\n",
    "**The importance of train-test split**\n",
    "Imagine teaching a student for an exam by using the very questions that will appear on it. They might score perfectly, but does it mean they've truly learned? Similarly, a model might perform exceptionally on the data it was trained on, but the real test of knowledge comes from unseen data. This is where the train-test split comes in, allowing us to assess our model's generalisation capabilities by training on one subset of data and testing on another.\n",
    "\n",
    "**Your task**\n",
    "Create a function named `train_test_split_evaluate` that:\n",
    "1. Takes in the DataFrame.\n",
    "2. Separates it into features (`X`) based on `Pollution_level` and the target (`y`) based on `Standard_yield`.\n",
    "3. Splits the data into training and testing sets using an 80-20 split and sets random_state to 42 for reproducibility.\n",
    "4. Trains a simple linear regression model on the training set.\n",
    "5. Evaluates the model on the test set, calculating the R-squared, MAE, MSE, and RMSE.\n",
    "6. Returns a tuple containing these evaluation metrics as well as two variables: `predictions` that contains the predicted values generated by the linear regression model and `y_test` that contains the actual values of the dependent variable. (These two variables will be used in the next challenge). \n",
    "\n",
    "**Note:**\n",
    "- Use `train_test_split` from `sklearn.model_selection` to split the data.\n",
    "- Train a linear regression model on the training set using `LinearRegression` from `sklearn.linear_model`.\n",
    "- Calculate the evaluation metrics on the test set using functions from `sklearn.metrics`.\n",
    "- Return a tuple that includes both the evaluation metrics (as a sub-tuple) and the `predictions` and `y_test` (as another sub-tuple). \n",
    "- Reflect on the differences in model performance between training and testing sets and what this indicates about the model's generalisation capability."
   ]
  },
  {
   "cell_type": "code",
   "execution_count": null,
   "id": "4a4791a6",
   "metadata": {},
   "outputs": [],
   "source": [
    "# Your code here\n",
    "# Hint: You'll need sklearn's train_test_split function\n",
    "\n",
    "### START FUNCTION\n",
    "def train_test_split_evaluate(df):\n",
    "    # Insert your code here\n",
    "### END FUNCTION"
   ]
  },
  {
   "cell_type": "markdown",
   "id": "7efcc079",
   "metadata": {},
   "source": [
    "Input:"
   ]
  },
  {
   "cell_type": "markdown",
   "id": "8fd44b50",
   "metadata": {},
   "source": [
    "Expected output: \n",
    "```\n",
    "A tuple containing your evaluation metrics (R-squared, MAE, MSE, RMSE) and another tuple with predictions and y_test\n",
    "\n",
    "Evaluation Metrics on Test Set:\n",
    "R-squared: 0.08065722992150859\n",
    "MAE: 0.08794942119747501\n",
    "MSE: 0.012250634233355654\n",
    "RMSE: 0.11068258324305434\n",
    "```"
   ]
  },
  {
   "cell_type": "markdown",
   "id": "50770085",
   "metadata": {},
   "source": [
    "Reflecting on these outputs, consider how splitting the data allows us to validate our model's performance on unseen data. By training and testing on different sets, we can better assess the model's ability to generalise, ensuring it's not just memorising the data but learning from it."
   ]
  },
  {
   "cell_type": "code",
   "execution_count": 18,
   "id": "ccba7ded",
   "metadata": {},
   "outputs": [
    {
     "name": "stdout",
     "output_type": "stream",
     "text": [
      "Evaluation Metrics on Test Set:\n",
      "R-squared: 0.08065722992150859\n",
      "MAE: 0.08794942119747501\n",
      "MSE: 0.012250634233355654\n",
      "RMSE: 0.11068258324305434\n"
     ]
    },
    {
     "name": "stderr",
     "output_type": "stream",
     "text": [
      "/Users/sarahblewett/anaconda3/envs/ExploreDS/lib/python3.11/site-packages/sklearn/utils/validation.py:757: FutureWarning: is_sparse is deprecated and will be removed in a future version. Check `isinstance(dtype, pd.SparseDtype)` instead.\n",
      "  if not hasattr(array, \"sparse\") and array.dtypes.apply(is_sparse).any():\n",
      "/Users/sarahblewett/anaconda3/envs/ExploreDS/lib/python3.11/site-packages/sklearn/utils/validation.py:595: FutureWarning: is_sparse is deprecated and will be removed in a future version. Check `isinstance(dtype, pd.SparseDtype)` instead.\n",
      "  if is_sparse(pd_dtype):\n",
      "/Users/sarahblewett/anaconda3/envs/ExploreDS/lib/python3.11/site-packages/sklearn/utils/validation.py:604: FutureWarning: is_sparse is deprecated and will be removed in a future version. Check `isinstance(dtype, pd.SparseDtype)` instead.\n",
      "  if is_sparse(pd_dtype) or not is_extension_array_dtype(pd_dtype):\n",
      "/Users/sarahblewett/anaconda3/envs/ExploreDS/lib/python3.11/site-packages/sklearn/utils/validation.py:757: FutureWarning: is_sparse is deprecated and will be removed in a future version. Check `isinstance(dtype, pd.SparseDtype)` instead.\n",
      "  if not hasattr(array, \"sparse\") and array.dtypes.apply(is_sparse).any():\n",
      "/Users/sarahblewett/anaconda3/envs/ExploreDS/lib/python3.11/site-packages/sklearn/utils/validation.py:595: FutureWarning: is_sparse is deprecated and will be removed in a future version. Check `isinstance(dtype, pd.SparseDtype)` instead.\n",
      "  if is_sparse(pd_dtype):\n",
      "/Users/sarahblewett/anaconda3/envs/ExploreDS/lib/python3.11/site-packages/sklearn/utils/validation.py:604: FutureWarning: is_sparse is deprecated and will be removed in a future version. Check `isinstance(dtype, pd.SparseDtype)` instead.\n",
      "  if is_sparse(pd_dtype) or not is_extension_array_dtype(pd_dtype):\n"
     ]
    }
   ],
   "source": [
    "from sklearn.model_selection import train_test_split\n",
    "from sklearn.linear_model import LinearRegression\n",
    "from sklearn.metrics import mean_squared_error, mean_absolute_error, r2_score\n",
    "import numpy as np\n",
    "\n",
    "def train_test_split_evaluate(df):\n",
    "    # Splitting the data\n",
    "    X = df[['Pollution_level']]\n",
    "    y = df['Standard_yield']\n",
    "    X_train, X_test, y_train, y_test = train_test_split(X, y, test_size=0.2, random_state=42)\n",
    "    \n",
    "    # Training the model\n",
    "    model = LinearRegression()\n",
    "    model.fit(X_train, y_train)\n",
    "    \n",
    "    # Making predictions\n",
    "    predictions = model.predict(X_test)\n",
    "    \n",
    "    # Evaluating the model\n",
    "    r2 = r2_score(y_test, predictions)\n",
    "    mae = mean_absolute_error(y_test, predictions)\n",
    "    mse = mean_squared_error(y_test, predictions)\n",
    "    rmse = np.sqrt(mse)\n",
    "    \n",
    "    # Returning both evaluation metrics and the necessary data for Challenge 5\n",
    "    return (r2, mae, mse, rmse), (predictions, y_test)\n",
    "\n",
    "evaluation_metrics, (predictions, y_test) = train_test_split_evaluate(dataset)\n",
    "\n",
    "print(f\"Evaluation Metrics on Test Set:\\nR-squared: {evaluation_metrics[0]}\\nMAE: {evaluation_metrics[1]}\\nMSE: {evaluation_metrics[2]}\\nRMSE: {evaluation_metrics[3]}\")\n"
   ]
  },
  {
   "cell_type": "markdown",
   "id": "52df0da5",
   "metadata": {},
   "source": [
    "## Challenge 5: Diagnosing model fit through residual analysis"
   ]
  },
  {
   "cell_type": "markdown",
   "id": "2fdc4710",
   "metadata": {},
   "source": [
    "Just like our examination of Ave_temps revealed its limitations as a predictor in a linear model due to the scatter plot distribution, there are other crucial assumptions we need to verify to ensure our model is well-fitted. Residual analysis plays a pivotal role in diagnosing the fit of linear regression models, helping us understand whether the assumptions of linearity, independence, and homoscedasticity (constant variance) of residuals are met.\n",
    "\n",
    "**Your task:**\n",
    "\n",
    "Create a function named analyse_model_residuals that:\n",
    "1. Use the predictions and y_test obtained from Challenge 4 to calculate the residuals.\n",
    "2. Plot these residuals to assess their distribution and identify any patterns.\n",
    "3. Calculate the mean and standard deviation of the residuals, providing further insights into the model's performance.\n",
    "4. Reflect on what the residual analysis reveals about your model's accuracy and its assumptions.\n",
    "\n",
    "**Note:**\n",
    "\n",
    "- Begin by extracting `predictions` and `y_test` from the output of your function from Challenge 4.\n",
    "- Calculate the residuals as the difference between `y_test` and `predictions`.\n",
    "- Visualise the residuals in a histogram or scatter plot against the predicted values.\n",
    "- Return the mean and standard deviation of the residuals."
   ]
  },
  {
   "cell_type": "markdown",
   "id": "8327e7d0",
   "metadata": {},
   "source": [
    "Expected output: \n",
    "```\n",
    "Visualization (e.g., histogram) showing the distribution of residuals.\n",
    "Mean and standard deviation of the residuals.\n",
    "```"
   ]
  },
  {
   "cell_type": "markdown",
   "id": "b9db3458",
   "metadata": {},
   "source": [
    "Reflecting on these outputs, consider how splitting the data allows us to validate our model's performance on unseen data. By training and testing on different sets, we can better assess the model's ability to generalise, ensuring it's not just memorising the data but learning from it."
   ]
  },
  {
   "cell_type": "code",
   "execution_count": 19,
   "id": "f551b033",
   "metadata": {},
   "outputs": [
    {
     "name": "stderr",
     "output_type": "stream",
     "text": [
      "/Users/sarahblewett/anaconda3/envs/ExploreDS/lib/python3.11/site-packages/sklearn/utils/validation.py:757: FutureWarning: is_sparse is deprecated and will be removed in a future version. Check `isinstance(dtype, pd.SparseDtype)` instead.\n",
      "  if not hasattr(array, \"sparse\") and array.dtypes.apply(is_sparse).any():\n",
      "/Users/sarahblewett/anaconda3/envs/ExploreDS/lib/python3.11/site-packages/sklearn/utils/validation.py:595: FutureWarning: is_sparse is deprecated and will be removed in a future version. Check `isinstance(dtype, pd.SparseDtype)` instead.\n",
      "  if is_sparse(pd_dtype):\n",
      "/Users/sarahblewett/anaconda3/envs/ExploreDS/lib/python3.11/site-packages/sklearn/utils/validation.py:604: FutureWarning: is_sparse is deprecated and will be removed in a future version. Check `isinstance(dtype, pd.SparseDtype)` instead.\n",
      "  if is_sparse(pd_dtype) or not is_extension_array_dtype(pd_dtype):\n",
      "/Users/sarahblewett/anaconda3/envs/ExploreDS/lib/python3.11/site-packages/sklearn/utils/validation.py:757: FutureWarning: is_sparse is deprecated and will be removed in a future version. Check `isinstance(dtype, pd.SparseDtype)` instead.\n",
      "  if not hasattr(array, \"sparse\") and array.dtypes.apply(is_sparse).any():\n",
      "/Users/sarahblewett/anaconda3/envs/ExploreDS/lib/python3.11/site-packages/sklearn/utils/validation.py:595: FutureWarning: is_sparse is deprecated and will be removed in a future version. Check `isinstance(dtype, pd.SparseDtype)` instead.\n",
      "  if is_sparse(pd_dtype):\n",
      "/Users/sarahblewett/anaconda3/envs/ExploreDS/lib/python3.11/site-packages/sklearn/utils/validation.py:604: FutureWarning: is_sparse is deprecated and will be removed in a future version. Check `isinstance(dtype, pd.SparseDtype)` instead.\n",
      "  if is_sparse(pd_dtype) or not is_extension_array_dtype(pd_dtype):\n"
     ]
    },
    {
     "data": {
      "image/png": "[encoded data removed]",
      "text/plain": [
       "<Figure size 1000x600 with 1 Axes>"
      ]
     },
     "metadata": {},
     "output_type": "display_data"
    }
   ],
   "source": [
    "import matplotlib.pyplot as plt\n",
    "\n",
    "def analyse_model_residuals(predictions, y_test):\n",
    "    # Calculating residuals\n",
    "    residuals = y_test - predictions\n",
    "    \n",
    "    # Plotting the residuals\n",
    "    plt.figure(figsize=(10, 6))\n",
    "    plt.hist(residuals, bins=20, edgecolor='black')\n",
    "    plt.title('Distribution of Residuals')\n",
    "    plt.xlabel('Residuals')\n",
    "    plt.ylabel('Frequency')\n",
    "    plt.show()\n",
    "    \n",
    "    # Alternatively, for a scatter plot of residuals vs. predicted values:\n",
    "    # plt.scatter(predictions, residuals)\n",
    "    # plt.title('Residuals vs. Predicted Values')\n",
    "    # plt.xlabel('Predicted Values')\n",
    "    # plt.ylabel('Residuals')\n",
    "    # plt.axhline(y=0, color='r', linestyle='--')\n",
    "    \n",
    "    # Calculating and returning the mean and standard deviation of residuals\n",
    "    mean_residual = np.mean(residuals)\n",
    "    std_residual = np.std(residuals)\n",
    "    \n",
    "    return mean_residual, std_residual\n",
    "\n",
    "evaluation_metrics, (predictions, y_test) = train_test_split_evaluate(dataset)\n",
    "\n",
    "mean_residual, std_residual = analyse_model_residuals(predictions, y_test)\n"
   ]
  },
  {
   "cell_type": "markdown",
   "id": "86c268c1",
   "metadata": {},
   "source": [
    "## Conclusion\n",
    "\n",
    "Linear regression, for all its strengths, assumes a straightforward relationship between the predictor and the outcome. Yet, the natural world seldom adheres to such simplicity. Factors influencing crop yields in Maji Ndogo—be it temperature, rainfall, or pollution—interact in complex, often nonlinear ways. Our initial model with Ave_temps hinted at this complexity, suggesting that the effect of the average temperature on yields might follow a more intricate pattern than a straight line can depict.\n",
    "\n",
    "As we dive deeper into regression, it's crucial to remember that with each model comes a new perspective. Just as a farmer selects the tool that best suits the task at hand, so must we choose our models with intention and insight. Exploring beyond linear regression opens up new vistas of understanding, allowing us to capture the richness of relationships within our data.\n",
    "\n",
    "In the fields of Maji Ndogo and beyond, countless stories await. It's up to us, with curiosity as our guide and an ever-expanding array of models at our disposal, to uncover them."
   ]
  }
 ],
 "metadata": {
  "kernelspec": {
   "display_name": "Python 3 (ipykernel)",
   "language": "python",
   "name": "python3"
  },
  "language_info": {
   "codemirror_mode": {
    "name": "ipython",
    "version": 3
   },
   "file_extension": ".py",
   "mimetype": "text/x-python",
   "name": "python",
   "nbconvert_exporter": "python",
   "pygments_lexer": "ipython3",
   "version": "3.11.7"
  }
 },
 "nbformat": 4,
 "nbformat_minor": 5
}
